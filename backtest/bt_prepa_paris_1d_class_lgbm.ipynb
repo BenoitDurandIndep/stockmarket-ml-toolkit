{
 "cells": [
  {
   "cell_type": "markdown",
   "metadata": {},
   "source": [
    "Preparation of the dataset for the homemade backtest"
   ]
  },
  {
   "cell_type": "code",
   "execution_count": 13,
   "metadata": {},
   "outputs": [
    {
     "data": {
      "text/plain": [
       "<module 'backtest_portfolio' from 'g:\\\\Python\\\\MarketDataEnrichment\\\\backtest\\\\backtest_portfolio.py'>"
      ]
     },
     "execution_count": 13,
     "metadata": {},
     "output_type": "execute_result"
    }
   ],
   "source": [
    "import pandas as pd\n",
    "import numpy as np\n",
    "from numpy import int64\n",
    "from matplotlib import pyplot as plt\n",
    "import importlib\n",
    "import joblib\n",
    "\n",
    "import sqlite_io as sio\n",
    "import backtest_portfolio as bp\n",
    "\n",
    "importlib.reload(bp)"
   ]
  },
  {
   "cell_type": "markdown",
   "metadata": {},
   "source": [
    "Load datasets"
   ]
  },
  {
   "cell_type": "code",
   "execution_count": 16,
   "metadata": {},
   "outputs": [
    {
     "name": "stdout",
     "output_type": "stream",
     "text": [
      "(1233792, 18)\n"
     ]
    }
   ],
   "source": [
    "PATH_DATA = \"G:\\\\Python\\\\Data\\\\DTS_FULL\\\\\"\n",
    "df=joblib.load(PATH_DATA+\"PARIS_TREND_1D_V5_lab_20_class_5_10_PREDICT_ALL4.pkl\")\n",
    "print(df.shape)\n",
    "\n"
   ]
  },
  {
   "cell_type": "code",
   "execution_count": 17,
   "metadata": {},
   "outputs": [
    {
     "name": "stdout",
     "output_type": "stream",
     "text": [
      "predict_5\n",
      "NaN    562222\n",
      "0.0    162242\n",
      "3.0    143291\n",
      "4.0    143128\n",
      "2.0    138957\n",
      "1.0     83952\n",
      "Name: count, dtype: int64\n"
     ]
    }
   ],
   "source": [
    "# print different values of predict_5 even NaN\n",
    "print(df[\"predict_5\"].value_counts(dropna=False))"
   ]
  },
  {
   "cell_type": "markdown",
   "metadata": {},
   "source": [
    "Clean and calculate usefull columns"
   ]
  },
  {
   "cell_type": "code",
   "execution_count": 18,
   "metadata": {},
   "outputs": [
    {
     "name": "stdout",
     "output_type": "stream",
     "text": [
      "(1233792, 18)\n",
      "Removed 0 rows from column 'predict_5'\n",
      "Removed 0 rows from column 'predict_10'\n",
      "Removed 0 rows from column 'lab_perf_20d_class_5'\n",
      "Removed 0 rows from column 'lab_perf_20d_class_10'\n",
      "(1233792, 26)\n",
      "                      OPEN   HIGH    LOW  CLOSE   VOLUME  pos_sma20_200  \\\n",
      "OPEN_DATETIME CODE                                                        \n",
      "2010-04-26    AB.PA  12.98  12.98  12.20  12.68  62866.0            NaN   \n",
      "2010-04-27    AB.PA  12.74  12.83  12.61  12.70  22370.0            NaN   \n",
      "2010-04-28    AB.PA  12.70  12.70  12.41  12.50   8211.0            NaN   \n",
      "2010-04-29    AB.PA  12.60  12.65  12.46  12.64   4676.0            NaN   \n",
      "2010-04-30    AB.PA  12.63  12.71  12.55  12.65   4470.0            NaN   \n",
      "\n",
      "                     adx14_pos lab_perf_20d_class_5 lab_perf_20d_class_10  \\\n",
      "OPEN_DATETIME CODE                                                          \n",
      "2010-04-26    AB.PA        NaN                   -1                    -1   \n",
      "2010-04-27    AB.PA        NaN                   -1                    -1   \n",
      "2010-04-28    AB.PA        NaN                   -1                    -1   \n",
      "2010-04-29    AB.PA        NaN                   -1                    -1   \n",
      "2010-04-30    AB.PA        NaN                   -1                    -1   \n",
      "\n",
      "                    predict_10  ... TRADABLE   cap_M lab_perf_20d_class_5_10  \\\n",
      "OPEN_DATETIME CODE              ...                                            \n",
      "2010-04-26    AB.PA         -1  ...      1.0  647.58                    -1-1   \n",
      "2010-04-27    AB.PA         -1  ...      1.0  648.60                    -1-1   \n",
      "2010-04-28    AB.PA         -1  ...      1.0  638.39                    -1-1   \n",
      "2010-04-29    AB.PA         -1  ...      1.0  645.54                    -1-1   \n",
      "2010-04-30    AB.PA         -1  ...      1.0  646.05                    -1-1   \n",
      "\n",
      "                    predict_5_10        day weekday  week_YYYYWW  \\\n",
      "OPEN_DATETIME CODE                                                 \n",
      "2010-04-26    AB.PA         -1-1 2010-04-26       0       201017   \n",
      "2010-04-27    AB.PA         -1-1 2010-04-27       1       201017   \n",
      "2010-04-28    AB.PA         -1-1 2010-04-28       2       201017   \n",
      "2010-04-29    AB.PA         -1-1 2010-04-29       3       201017   \n",
      "2010-04-30    AB.PA         -1-1 2010-04-30       4       201017   \n",
      "\n",
      "                     is_last_day_week code_order next_open  \n",
      "OPEN_DATETIME CODE                                          \n",
      "2010-04-26    AB.PA             False       88.0     12.74  \n",
      "2010-04-27    AB.PA             False       89.0     12.70  \n",
      "2010-04-28    AB.PA             False       89.0     12.60  \n",
      "2010-04-29    AB.PA             False       87.0     12.63  \n",
      "2010-04-30    AB.PA              True       87.0     12.70  \n",
      "\n",
      "[5 rows x 26 columns]\n"
     ]
    }
   ],
   "source": [
    "df = df[df['TRADABLE'] != 0]\n",
    "df_clean=df.copy()\n",
    "df_clean=df_clean[ ['OPEN', 'HIGH', 'LOW', 'CLOSE', 'VOLUME','pos_sma20_200','adx14_pos',\n",
    "                    'lab_perf_20d_class_5', 'lab_perf_20d_class_10',\n",
    "                    'predict_10', 'predict_5', 'predict_10_proba', 'predict_5_proba',\n",
    "                      'PART', 'SHARESOUTSTANDING', 'NAME', 'TRADABLE', 'cap_M']]\n",
    "\n",
    "print(df_clean.shape)\n",
    "\n",
    "\n",
    "#TODO PUT THIS FUNCTION IN A LIBRARY\n",
    "def filter_invalid_values(df_in:pd.DataFrame, column_name:str,debug:bool=False) ->pd.DataFrame:\n",
    "    \"\"\"\n",
    "    Filters out rows where the specified column contains invalid values.\n",
    "\n",
    "    Args:\n",
    "        df_in (pd.DataFrame): The DataFrame to filter.\n",
    "        column_name (str): The name of the column to check.\n",
    "\n",
    "    Returns:\n",
    "        pd.DataFrame: The filtered DataFrame.\n",
    "    \"\"\"\n",
    "    invalid_values = [None, '', 'nan', 'NaN']\n",
    "    original_count = len(df_in)\n",
    "    filtered_df = df_in[~df_in[column_name].isin(invalid_values)]\n",
    "    # Remove rows with np.nan, np.inf, or -np.inf\n",
    "    filtered_df = filtered_df[filtered_df[column_name].notna()]  # Remove NaN\n",
    "    filtered_df = filtered_df[~filtered_df[column_name].isin([np.inf, -np.inf])]  # Remove inf and -inf\n",
    "    \n",
    "    if debug:\n",
    "        removed_count = original_count - len(filtered_df)\n",
    "        print(f\"Removed {removed_count} rows from column '{column_name}'\")\n",
    "    return filtered_df\n",
    "\n",
    "# default value for predict_5 and predict_10 and lab_perf when NaN set to -1\n",
    "df_clean['predict_5'] = df_clean['predict_5'].fillna(-1)\n",
    "df_clean['predict_10'] = df_clean['predict_10'].fillna(-1)\n",
    "df_clean['lab_perf_20d_class_5'] = df_clean['lab_perf_20d_class_5'].fillna(-1)\n",
    "df_clean['lab_perf_20d_class_10'] = df_clean['lab_perf_20d_class_10'].fillna(-1)\n",
    "\n",
    "df_clean = filter_invalid_values(df_clean, 'predict_5',True)\n",
    "df_clean = filter_invalid_values(df_clean, 'predict_10',True)\n",
    "df_clean = filter_invalid_values(df_clean, 'lab_perf_20d_class_5',True)\n",
    "df_clean = filter_invalid_values(df_clean, 'lab_perf_20d_class_10',True)\n",
    "\n",
    "# print values ofwhere  lab_perf_20d_class_5 is not an integer \n",
    "# sort by code ascending  then date ascending\n",
    "df_clean = df_clean.sort_values(by=['CODE', 'OPEN_DATETIME'], ascending=[True, True])\n",
    "\n",
    "df_clean['SHARESOUTSTANDING']=df_clean['SHARESOUTSTANDING'].fillna(0)\n",
    "df_clean['SHARESOUTSTANDING']=df_clean['SHARESOUTSTANDING'].replace('',0)\n",
    "df_clean['SHARESOUTSTANDING']=df_clean['SHARESOUTSTANDING'].astype(int64)\n",
    "\n",
    "#TODO  REVIEW THIS PART\n",
    "df_clean['lab_perf_20d_class_10'] = df_clean['lab_perf_20d_class_10'].astype(int64).astype(str)\n",
    "df_clean['lab_perf_20d_class_5'] = df_clean['lab_perf_20d_class_5'].astype(int64).astype(str)\n",
    "df_clean['lab_perf_20d_class_5_10'] = (df_clean['lab_perf_20d_class_5'] + df_clean['lab_perf_20d_class_10']).astype(str).str.zfill(2)\n",
    "df_clean['predict_10'] = df_clean['predict_10'].astype(int64).astype(str)\n",
    "df_clean['predict_5'] = df_clean['predict_5'].astype(int64).astype(str)\n",
    "df_clean['predict_5_10'] = (df_clean['predict_5'] + df_clean['predict_10']).astype(str).str.zfill(2)\n",
    "# \n",
    "\n",
    "df_clean['NAME']=df_clean['NAME'].astype(str)\n",
    "df_clean['day'] = df_clean.index.get_level_values(0)\n",
    "df_clean['weekday'] = df_clean['day'].dt.weekday\n",
    "df_clean['week_YYYYWW']=df_clean['day'].dt.strftime('%Y%W')\n",
    "df_clean['is_last_day_week'] = df_clean.groupby('week_YYYYWW')['day'].transform(lambda x: x == x.max())\n",
    "df_clean['code_order'] = df_clean.groupby('OPEN_DATETIME')['cap_M'].rank(ascending=False, method='first')\n",
    "df_clean['next_open'] = df_clean.groupby('CODE')['OPEN'].shift(-1)\n",
    "\n",
    "print(df_clean.shape)\n",
    "\n",
    "# drop lines where predicted_score is null or empty or nan\n",
    "print(df_clean.head())\n",
    "# df_clean.round(5).to_csv(PATH_DATA+\"PARIS_TREND_1D_LSTM_20D_50D_V1_BT.zip\", sep=\",\")\n"
   ]
  },
  {
   "cell_type": "code",
   "execution_count": 19,
   "metadata": {},
   "outputs": [
    {
     "name": "stdout",
     "output_type": "stream",
     "text": [
      "-107 289\n"
     ]
    }
   ],
   "source": [
    "# add a column with Year*12+Month\n",
    "df_clean['YYMM_int'] = (df_clean['day'].dt.year-2000) * 12 + df_clean['day'].dt.month\n",
    "print(df_clean['YYMM_int'].min(),df_clean['YYMM_int'].max())"
   ]
  },
  {
   "cell_type": "code",
   "execution_count": 20,
   "metadata": {},
   "outputs": [
    {
     "name": "stdout",
     "output_type": "stream",
     "text": [
      "Codes with missing dates in YYMM_int: []\n"
     ]
    }
   ],
   "source": [
    "# print the list of CODE where a month is missed between to values of YYMM_int\n",
    "missing_dates_codes = []\n",
    "\n",
    "# Group by CODE and check for gaps in YYMM_int\n",
    "for code, group in df_clean.groupby('CODE'):\n",
    "    group = group.sort_values('YYMM_int')  # Sort by YYMM_int\n",
    "    gaps = group['YYMM_int'].diff()  # Calculate differences between consecutive YYMM_int\n",
    "    if (gaps > 1).any():  # Check if any gap is greater than 1\n",
    "        missing_dates_codes.append(code)\n",
    "\n",
    "# Print the list of codes with missing dates\n",
    "print(\"Codes with missing dates in YYMM_int:\", missing_dates_codes)"
   ]
  },
  {
   "cell_type": "code",
   "execution_count": 20,
   "metadata": {},
   "outputs": [
    {
     "data": {
      "text/html": [
       "<div>\n",
       "<style scoped>\n",
       "    .dataframe tbody tr th:only-of-type {\n",
       "        vertical-align: middle;\n",
       "    }\n",
       "\n",
       "    .dataframe tbody tr th {\n",
       "        vertical-align: top;\n",
       "    }\n",
       "\n",
       "    .dataframe thead th {\n",
       "        text-align: right;\n",
       "    }\n",
       "</style>\n",
       "<table border=\"1\" class=\"dataframe\">\n",
       "  <thead>\n",
       "    <tr style=\"text-align: right;\">\n",
       "      <th></th>\n",
       "      <th></th>\n",
       "      <th>OPEN</th>\n",
       "      <th>HIGH</th>\n",
       "      <th>LOW</th>\n",
       "      <th>CLOSE</th>\n",
       "      <th>VOLUME</th>\n",
       "      <th>pos_sma20_200</th>\n",
       "      <th>adx14_pos</th>\n",
       "      <th>lab_perf_20d_class_5</th>\n",
       "      <th>lab_perf_20d_class_10</th>\n",
       "      <th>predict_10</th>\n",
       "      <th>...</th>\n",
       "      <th>next_open</th>\n",
       "      <th>YYMM_int</th>\n",
       "      <th>exit_code</th>\n",
       "      <th>exit</th>\n",
       "      <th>entry_code</th>\n",
       "      <th>entry_2d</th>\n",
       "      <th>entry</th>\n",
       "      <th>entry_adx</th>\n",
       "      <th>qtt</th>\n",
       "      <th>SL</th>\n",
       "    </tr>\n",
       "    <tr>\n",
       "      <th>OPEN_DATETIME</th>\n",
       "      <th>CODE</th>\n",
       "      <th></th>\n",
       "      <th></th>\n",
       "      <th></th>\n",
       "      <th></th>\n",
       "      <th></th>\n",
       "      <th></th>\n",
       "      <th></th>\n",
       "      <th></th>\n",
       "      <th></th>\n",
       "      <th></th>\n",
       "      <th></th>\n",
       "      <th></th>\n",
       "      <th></th>\n",
       "      <th></th>\n",
       "      <th></th>\n",
       "      <th></th>\n",
       "      <th></th>\n",
       "      <th></th>\n",
       "      <th></th>\n",
       "      <th></th>\n",
       "      <th></th>\n",
       "    </tr>\n",
       "  </thead>\n",
       "  <tbody>\n",
       "    <tr>\n",
       "      <th>2010-04-26</th>\n",
       "      <th>AB.PA</th>\n",
       "      <td>12.98</td>\n",
       "      <td>12.98</td>\n",
       "      <td>12.20</td>\n",
       "      <td>12.68</td>\n",
       "      <td>62866.0</td>\n",
       "      <td>NaN</td>\n",
       "      <td>NaN</td>\n",
       "      <td>-1</td>\n",
       "      <td>-1</td>\n",
       "      <td>-1</td>\n",
       "      <td>...</td>\n",
       "      <td>12.74</td>\n",
       "      <td>124</td>\n",
       "      <td>1</td>\n",
       "      <td>0</td>\n",
       "      <td>0</td>\n",
       "      <td>0</td>\n",
       "      <td>False</td>\n",
       "      <td>False</td>\n",
       "      <td>78.0</td>\n",
       "      <td>10.144</td>\n",
       "    </tr>\n",
       "    <tr>\n",
       "      <th>2010-04-27</th>\n",
       "      <th>AB.PA</th>\n",
       "      <td>12.74</td>\n",
       "      <td>12.83</td>\n",
       "      <td>12.61</td>\n",
       "      <td>12.70</td>\n",
       "      <td>22370.0</td>\n",
       "      <td>NaN</td>\n",
       "      <td>NaN</td>\n",
       "      <td>-1</td>\n",
       "      <td>-1</td>\n",
       "      <td>-1</td>\n",
       "      <td>...</td>\n",
       "      <td>12.70</td>\n",
       "      <td>124</td>\n",
       "      <td>1</td>\n",
       "      <td>0</td>\n",
       "      <td>0</td>\n",
       "      <td>0</td>\n",
       "      <td>False</td>\n",
       "      <td>False</td>\n",
       "      <td>78.0</td>\n",
       "      <td>10.160</td>\n",
       "    </tr>\n",
       "    <tr>\n",
       "      <th>2010-04-28</th>\n",
       "      <th>AB.PA</th>\n",
       "      <td>12.70</td>\n",
       "      <td>12.70</td>\n",
       "      <td>12.41</td>\n",
       "      <td>12.50</td>\n",
       "      <td>8211.0</td>\n",
       "      <td>NaN</td>\n",
       "      <td>NaN</td>\n",
       "      <td>-1</td>\n",
       "      <td>-1</td>\n",
       "      <td>-1</td>\n",
       "      <td>...</td>\n",
       "      <td>12.60</td>\n",
       "      <td>124</td>\n",
       "      <td>1</td>\n",
       "      <td>0</td>\n",
       "      <td>0</td>\n",
       "      <td>0</td>\n",
       "      <td>False</td>\n",
       "      <td>False</td>\n",
       "      <td>79.0</td>\n",
       "      <td>10.000</td>\n",
       "    </tr>\n",
       "    <tr>\n",
       "      <th>2010-04-29</th>\n",
       "      <th>AB.PA</th>\n",
       "      <td>12.60</td>\n",
       "      <td>12.65</td>\n",
       "      <td>12.46</td>\n",
       "      <td>12.64</td>\n",
       "      <td>4676.0</td>\n",
       "      <td>NaN</td>\n",
       "      <td>NaN</td>\n",
       "      <td>-1</td>\n",
       "      <td>-1</td>\n",
       "      <td>-1</td>\n",
       "      <td>...</td>\n",
       "      <td>12.63</td>\n",
       "      <td>124</td>\n",
       "      <td>1</td>\n",
       "      <td>0</td>\n",
       "      <td>0</td>\n",
       "      <td>0</td>\n",
       "      <td>False</td>\n",
       "      <td>False</td>\n",
       "      <td>79.0</td>\n",
       "      <td>10.112</td>\n",
       "    </tr>\n",
       "    <tr>\n",
       "      <th>2010-04-30</th>\n",
       "      <th>AB.PA</th>\n",
       "      <td>12.63</td>\n",
       "      <td>12.71</td>\n",
       "      <td>12.55</td>\n",
       "      <td>12.65</td>\n",
       "      <td>4470.0</td>\n",
       "      <td>NaN</td>\n",
       "      <td>NaN</td>\n",
       "      <td>-1</td>\n",
       "      <td>-1</td>\n",
       "      <td>-1</td>\n",
       "      <td>...</td>\n",
       "      <td>12.70</td>\n",
       "      <td>124</td>\n",
       "      <td>1</td>\n",
       "      <td>1</td>\n",
       "      <td>0</td>\n",
       "      <td>0</td>\n",
       "      <td>False</td>\n",
       "      <td>False</td>\n",
       "      <td>78.0</td>\n",
       "      <td>10.120</td>\n",
       "    </tr>\n",
       "  </tbody>\n",
       "</table>\n",
       "<p>5 rows × 35 columns</p>\n",
       "</div>"
      ],
      "text/plain": [
       "                      OPEN   HIGH    LOW  CLOSE   VOLUME  pos_sma20_200  \\\n",
       "OPEN_DATETIME CODE                                                        \n",
       "2010-04-26    AB.PA  12.98  12.98  12.20  12.68  62866.0            NaN   \n",
       "2010-04-27    AB.PA  12.74  12.83  12.61  12.70  22370.0            NaN   \n",
       "2010-04-28    AB.PA  12.70  12.70  12.41  12.50   8211.0            NaN   \n",
       "2010-04-29    AB.PA  12.60  12.65  12.46  12.64   4676.0            NaN   \n",
       "2010-04-30    AB.PA  12.63  12.71  12.55  12.65   4470.0            NaN   \n",
       "\n",
       "                     adx14_pos lab_perf_20d_class_5 lab_perf_20d_class_10  \\\n",
       "OPEN_DATETIME CODE                                                          \n",
       "2010-04-26    AB.PA        NaN                   -1                    -1   \n",
       "2010-04-27    AB.PA        NaN                   -1                    -1   \n",
       "2010-04-28    AB.PA        NaN                   -1                    -1   \n",
       "2010-04-29    AB.PA        NaN                   -1                    -1   \n",
       "2010-04-30    AB.PA        NaN                   -1                    -1   \n",
       "\n",
       "                    predict_10  ... next_open YYMM_int exit_code exit  \\\n",
       "OPEN_DATETIME CODE              ...                                     \n",
       "2010-04-26    AB.PA         -1  ...     12.74      124         1    0   \n",
       "2010-04-27    AB.PA         -1  ...     12.70      124         1    0   \n",
       "2010-04-28    AB.PA         -1  ...     12.60      124         1    0   \n",
       "2010-04-29    AB.PA         -1  ...     12.63      124         1    0   \n",
       "2010-04-30    AB.PA         -1  ...     12.70      124         1    1   \n",
       "\n",
       "                     entry_code entry_2d  entry  entry_adx   qtt      SL  \n",
       "OPEN_DATETIME CODE                                                        \n",
       "2010-04-26    AB.PA           0        0  False      False  78.0  10.144  \n",
       "2010-04-27    AB.PA           0        0  False      False  78.0  10.160  \n",
       "2010-04-28    AB.PA           0        0  False      False  79.0  10.000  \n",
       "2010-04-29    AB.PA           0        0  False      False  79.0  10.112  \n",
       "2010-04-30    AB.PA           0        0  False      False  78.0  10.120  \n",
       "\n",
       "[5 rows x 35 columns]"
      ]
     },
     "execution_count": 20,
     "metadata": {},
     "output_type": "execute_result"
    }
   ],
   "source": [
    "list_exit_code_5=['-1','0','1','2']\n",
    "list_exit_code_10=['-1','0','1','2','3','4','5']\n",
    "list_entry_code_5=['3','4']\n",
    "list_entry_code_10=['7','8','9']\n",
    "\n",
    "val_pos=1000\n",
    "SL=0.2\n",
    "\n",
    "\n",
    "df_clean['exit_code'] = np.where(\n",
    "    df_clean['predict_5'].isin(list_exit_code_5) | (df_clean['predict_10'].isin(list_exit_code_10)) , 1, 0) \n",
    "\n",
    "#exit with 2 consecutive days of exit code 1 and last day of week\n",
    "df_clean['exit'] = ((df_clean['exit_code']==1) & (df_clean['exit_code'].shift(1)==1) & (df_clean['is_last_day_week'] ==1)).astype(int)\n",
    "\n",
    "df_clean['entry_code'] = np.where(\n",
    "    df_clean['predict_5'].isin(list_entry_code_5) & df_clean['predict_10'].isin(list_entry_code_10) , 1, 0) \n",
    "df_clean['entry_2d'] = ((df_clean['entry_code']==1) & (df_clean['entry_code'].shift(1)==1)).astype(int) \n",
    "df_clean['entry'] = (df_clean['entry_2d'] == 1) & (df_clean['is_last_day_week'] ==1) \n",
    "\n",
    "df_clean['entry_adx'] = (df_clean['entry'] == 1) & (df_clean['adx14_pos'] > 20)\n",
    "\n",
    "df_clean['qtt']=np.floor(val_pos/df_clean['next_open'])\n",
    "df_clean['SL']=df_clean['CLOSE']*(1-SL)\n",
    "\n",
    "df_clean.head()\n"
   ]
  },
  {
   "cell_type": "code",
   "execution_count": 21,
   "metadata": {},
   "outputs": [],
   "source": [
    "df_clean['cap_filter'] = df_clean['cap_M'].where(df_clean['entry'] == 1, None)\n",
    "df_clean['entry_order'] = df_clean.groupby('OPEN_DATETIME')['cap_filter'].rank(ascending=False, method='first')\n",
    "df_clean['entry_filter'] = df_clean['entry_order'] <= 20\n",
    "\n",
    "df_clean['cap_filter_adx'] = df_clean['cap_M'].where(df_clean['entry_adx'] == 1, None)\n",
    "df_clean['entry_order_adx'] = df_clean.groupby('OPEN_DATETIME')['cap_filter_adx'].rank(ascending=False, method='first')\n",
    "df_clean['entry_filter_adx'] = df_clean['entry_order_adx'] <= 20\n",
    "\n",
    "# df_clean.round(5).to_csv(PATH_DATA+\"PARIS_TREND_1D_LGBM_20D_V1_BT_PREPA.zip\", sep=\",\")\n",
    "# save in pkl\n",
    "df_clean.to_pickle(PATH_DATA+\"PARIS_TREND_1D_LSTM_20D_50D_V1_BT_PREPA.pkl\")"
   ]
  },
  {
   "cell_type": "code",
   "execution_count": 22,
   "metadata": {},
   "outputs": [
    {
     "name": "stdout",
     "output_type": "stream",
     "text": [
      "(6156, 41)\n"
     ]
    }
   ],
   "source": [
    "# filter df_clean on code AI.PA and ABCA.PA\n",
    "df_clean_b = df_clean[df_clean.index.get_level_values('CODE').isin([ 'ABCA.PA'])]\n",
    "print(df_clean_b.shape)\n",
    "df_clean_b.round(5).to_csv(PATH_DATA+\"PARIS_TREND_1D_LGBM_20D_V1_BT_PREPA_SAMPLE.zip\", sep=\",\")"
   ]
  },
  {
   "cell_type": "markdown",
   "metadata": {},
   "source": [
    "-- break point"
   ]
  },
  {
   "cell_type": "code",
   "execution_count": 22,
   "metadata": {},
   "outputs": [
    {
     "name": "stdout",
     "output_type": "stream",
     "text": [
      "(1233792, 41)\n"
     ]
    }
   ],
   "source": [
    "PATH_DATA = \"G:\\\\Python\\\\Data\\\\DTS_FULL\\\\\"\n",
    "# df_saved=pd.read_csv(PATH_DATA+\"PARIS_TREND_1D_LGBM_20D_V1_BT_PREPA.zip\",sep=\",\",parse_dates=['OPEN_DATETIME','day'],index_col=['CODE','OPEN_DATETIME'])\n",
    "# load pkl file \n",
    "df_saved=pd.read_pickle(PATH_DATA+\"PARIS_TREND_1D_LSTM_20D_50D_V1_BT_PREPA.pkl\")\n",
    "print(df_saved.shape)"
   ]
  },
  {
   "cell_type": "code",
   "execution_count": 25,
   "metadata": {},
   "outputs": [
    {
     "name": "stdout",
     "output_type": "stream",
     "text": [
      "len(distinct_codes)=263-len(codes_not_in_distinct)=15\n",
      "(1215649, 41)\n"
     ]
    }
   ],
   "source": [
    "# filter out rows where 'entry' is 0 and 'exit' is 0\n",
    "distinct_codes = df_saved[df_saved['entry_filter'] == 1].index.get_level_values('CODE').unique()\n",
    "codes_not_in_distinct = df_saved[~df_saved.index.get_level_values('CODE').isin(distinct_codes)].index.get_level_values('CODE').unique().tolist()\n",
    "print(f\"{len(distinct_codes)=}-{len(codes_not_in_distinct)=}\")\n",
    "\n",
    "df_clean = df_saved[~df_saved.index.get_level_values('CODE').isin(codes_not_in_distinct)]\n",
    "print(df_clean.shape)\n",
    "\n",
    "# df_clean.round(5).to_csv(PATH_DATA+\"PARIS_TREND_1D_LGBM_20D_V1_BT_PREPA_FILTERED.zip\", sep=\",\")"
   ]
  },
  {
   "cell_type": "code",
   "execution_count": 23,
   "metadata": {},
   "outputs": [
    {
     "name": "stdout",
     "output_type": "stream",
     "text": [
      "(1233792, 41)\n"
     ]
    }
   ],
   "source": [
    "PATH_DATA = \"G:\\\\Python\\\\Data\\\\DTS_FULL\\\\\"\n",
    "df_prepa=pd.read_pickle(PATH_DATA+\"PARIS_TREND_1D_LSTM_20D_50D_V1_BT_PREPA.pkl\")\n",
    "#entry, exit, price, low, sl, priority, nb_stocks\n",
    "print(df_prepa.shape)"
   ]
  },
  {
   "cell_type": "code",
   "execution_count": 26,
   "metadata": {},
   "outputs": [
    {
     "name": "stdout",
     "output_type": "stream",
     "text": [
      "['OPEN', 'HIGH', 'LOW', 'CLOSE', 'VOLUME', 'pos_sma20_200', 'adx14_pos', 'lab_perf_20d_class_5', 'lab_perf_20d_class_10', 'predict_10', 'predict_5', 'predict_10_proba', 'predict_5_proba', 'PART', 'SHARESOUTSTANDING', 'NAME', 'TRADABLE', 'cap_M', 'lab_perf_20d_class_5_10', 'predict_5_10', 'day', 'weekday', 'week_YYYYWW', 'is_last_day_week', 'code_order', 'next_open', 'YYMM_int', 'exit_code', 'exit', 'entry_code', 'entry_2d', 'entry', 'entry_adx', 'qtt', 'SL', 'cap_filter', 'entry_order', 'entry_filter', 'cap_filter_adx', 'entry_order_adx', 'entry_filter_adx']\n",
      "object\n",
      "['OPEN_DATETIME', 'CODE']\n"
     ]
    }
   ],
   "source": [
    "# print list columns\n",
    "print(df_prepa.columns.tolist())\n",
    "# print type of predict_5_proba\n",
    "print(df_prepa['predict_5_proba'].dtype)\n",
    "# print list of index levels\n",
    "print(df_prepa.index.names)"
   ]
  },
  {
   "cell_type": "code",
   "execution_count": 29,
   "metadata": {},
   "outputs": [
    {
     "data": {
      "text/html": [
       "<div>\n",
       "<style scoped>\n",
       "    .dataframe tbody tr th:only-of-type {\n",
       "        vertical-align: middle;\n",
       "    }\n",
       "\n",
       "    .dataframe tbody tr th {\n",
       "        vertical-align: top;\n",
       "    }\n",
       "\n",
       "    .dataframe thead th {\n",
       "        text-align: right;\n",
       "    }\n",
       "</style>\n",
       "<table border=\"1\" class=\"dataframe\">\n",
       "  <thead>\n",
       "    <tr style=\"text-align: right;\">\n",
       "      <th></th>\n",
       "      <th>low</th>\n",
       "      <th>price</th>\n",
       "      <th>exit</th>\n",
       "      <th>quantity</th>\n",
       "      <th>sl</th>\n",
       "      <th>priority</th>\n",
       "    </tr>\n",
       "  </thead>\n",
       "  <tbody>\n",
       "    <tr>\n",
       "      <th>count</th>\n",
       "      <td>540345.000000</td>\n",
       "      <td>540345.000000</td>\n",
       "      <td>540345.000000</td>\n",
       "      <td>540345.000000</td>\n",
       "      <td>540345.000000</td>\n",
       "      <td>14034.000000</td>\n",
       "    </tr>\n",
       "    <tr>\n",
       "      <th>mean</th>\n",
       "      <td>31.693254</td>\n",
       "      <td>32.120328</td>\n",
       "      <td>0.155800</td>\n",
       "      <td>117.882545</td>\n",
       "      <td>25.683175</td>\n",
       "      <td>19.574462</td>\n",
       "    </tr>\n",
       "    <tr>\n",
       "      <th>std</th>\n",
       "      <td>100.276529</td>\n",
       "      <td>101.904559</td>\n",
       "      <td>0.362666</td>\n",
       "      <td>191.170847</td>\n",
       "      <td>81.471992</td>\n",
       "      <td>15.565496</td>\n",
       "    </tr>\n",
       "    <tr>\n",
       "      <th>min</th>\n",
       "      <td>0.274500</td>\n",
       "      <td>0.282800</td>\n",
       "      <td>0.000000</td>\n",
       "      <td>0.000000</td>\n",
       "      <td>0.219600</td>\n",
       "      <td>1.000000</td>\n",
       "    </tr>\n",
       "    <tr>\n",
       "      <th>25%</th>\n",
       "      <td>8.043800</td>\n",
       "      <td>8.147900</td>\n",
       "      <td>0.000000</td>\n",
       "      <td>30.000000</td>\n",
       "      <td>6.512960</td>\n",
       "      <td>8.000000</td>\n",
       "    </tr>\n",
       "    <tr>\n",
       "      <th>50%</th>\n",
       "      <td>17.164800</td>\n",
       "      <td>17.391500</td>\n",
       "      <td>0.000000</td>\n",
       "      <td>57.000000</td>\n",
       "      <td>13.905360</td>\n",
       "      <td>16.000000</td>\n",
       "    </tr>\n",
       "    <tr>\n",
       "      <th>75%</th>\n",
       "      <td>32.880200</td>\n",
       "      <td>33.271200</td>\n",
       "      <td>0.000000</td>\n",
       "      <td>122.000000</td>\n",
       "      <td>26.611600</td>\n",
       "      <td>28.000000</td>\n",
       "    </tr>\n",
       "    <tr>\n",
       "      <th>max</th>\n",
       "      <td>2598.643300</td>\n",
       "      <td>2654.819800</td>\n",
       "      <td>1.000000</td>\n",
       "      <td>3536.000000</td>\n",
       "      <td>2116.773280</td>\n",
       "      <td>98.000000</td>\n",
       "    </tr>\n",
       "  </tbody>\n",
       "</table>\n",
       "</div>"
      ],
      "text/plain": [
       "                 low          price           exit       quantity  \\\n",
       "count  540345.000000  540345.000000  540345.000000  540345.000000   \n",
       "mean       31.693254      32.120328       0.155800     117.882545   \n",
       "std       100.276529     101.904559       0.362666     191.170847   \n",
       "min         0.274500       0.282800       0.000000       0.000000   \n",
       "25%         8.043800       8.147900       0.000000      30.000000   \n",
       "50%        17.164800      17.391500       0.000000      57.000000   \n",
       "75%        32.880200      33.271200       0.000000     122.000000   \n",
       "max      2598.643300    2654.819800       1.000000    3536.000000   \n",
       "\n",
       "                  sl      priority  \n",
       "count  540345.000000  14034.000000  \n",
       "mean       25.683175     19.574462  \n",
       "std        81.471992     15.565496  \n",
       "min         0.219600      1.000000  \n",
       "25%         6.512960      8.000000  \n",
       "50%        13.905360     16.000000  \n",
       "75%        26.611600     28.000000  \n",
       "max      2116.773280     98.000000  "
      ]
     },
     "execution_count": 29,
     "metadata": {},
     "output_type": "execute_result"
    }
   ],
   "source": [
    "# keep line between 2000 and 2016-12-31\n",
    "df_prepa_bt=df_prepa.copy()\n",
    "df_prepa_bt = df_prepa_bt[(df_prepa_bt.index.get_level_values('OPEN_DATETIME') >= '2006-01-01') & (df_prepa_bt.index.get_level_values('OPEN_DATETIME') <= '2016-12-31')]\n",
    "\n",
    "# drop lines after 2023-11-18\n",
    "# df_prepa_bt = df_prepa_bt[df_prepa_bt.index.get_level_values('day') <= '2015-10-10']#'2023-10-10'\n",
    "\n",
    "# df_prepa_bt.round(5).to_csv(PATH_DATA+\"PARIS_TREND_1D_LGBM_20D_V1_BT_SAMPLE.zip\", sep=\",\")\n",
    "\n",
    "# add column comment with the value ofpredict_5_10 and predict_5_proba\n",
    "df_prepa_bt['predict_5_proba'] = df_prepa_bt['predict_5_proba'].apply(\n",
    "    lambda x: [round(float(value), 4) for value in x] if isinstance(x, list) else round(float(x), 4) if pd.notna(x) else x\n",
    ")\n",
    "df_prepa_bt['predict_10_proba'] = df_prepa_bt['predict_10_proba'].apply(\n",
    "    lambda x: [round(float(value), 4) for value in x] if isinstance(x, list) else round(float(x), 4) if pd.notna(x) else x\n",
    ")\n",
    "df_prepa_bt['comment'] = df_prepa_bt['lab_perf_20d_class_5_10'].astype(str) + ' ' + df_prepa_bt['predict_5_10'].astype(str) + ' ' + df_prepa_bt['predict_5_proba'].astype(str)+ ' ' + df_prepa_bt['predict_10_proba'].astype(str)\n",
    "\n",
    "df_bt=df_prepa_bt[['LOW','next_open','exit','qtt','SL','entry_order','entry_filter','comment']]\n",
    "\n",
    "df_bt = df_bt.rename(columns={'entry_filter': 'entry', 'next_open': 'price', 'LOW': 'low', 'SL': 'sl',\n",
    "                               'qtt': 'quantity','entry_order':'priority'})\n",
    "\n",
    "df_bt.describe()\n"
   ]
  },
  {
   "cell_type": "code",
   "execution_count": 36,
   "metadata": {},
   "outputs": [
    {
     "name": "stdout",
     "output_type": "stream",
     "text": [
      "Logging to file: g:\\Python\\MarketDataEnrichment\\backtest/logs/\n",
      "Remaining portfolio: Portfolio: cash=12826.63, nb_positions=0, value=12903.82, positions= \n",
      "remaining_portfolio.nb_trades= 1336 remaining_portfolio.total_commission= 21444.256144200004\n"
     ]
    }
   ],
   "source": [
    "initial_cash = 10000\n",
    "commission = 0.006\n",
    "freq_print=20\n",
    "log_to_file=True\n",
    "\n",
    "options = {'max_positions': 5, 'scale_up': False, 'sell_all': True, 'fixe_quantity':False}\n",
    "\n",
    "remaining_portfolio = bp.backtest_strategy_portfolio(df_in=df_bt, initial_cash=initial_cash,\n",
    "                                                      commission=commission,options=options,freq_print=freq_print,\n",
    "                                                      log_to_file=log_to_file)\n",
    "print(f'Remaining portfolio: {remaining_portfolio}')\n",
    "print(f'{remaining_portfolio.nb_trades= } {remaining_portfolio.total_commission= }')\n",
    "\n",
    "# https://www.boursorama.com/bourse/trackers/cours/1rTCACC/\n",
    "# FR0013380607\n",
    "# CAC40 GR au 2020-08-17 : 21.5 \n",
    "# CAC40 GR au 2023-10-10 : 32.66 soit 51.9% de perf\n",
    "\n",
    "# PTF au 2020-08-17 : 10000\n",
    "# PTF au 2023-11-18 SMA ADX : "
   ]
  },
  {
   "cell_type": "code",
   "execution_count": 37,
   "metadata": {},
   "outputs": [
    {
     "data": {
      "image/png": "[encoded data removed]",
      "text/plain": [
       "<Figure size 640x480 with 1 Axes>"
      ]
     },
     "metadata": {},
     "output_type": "display_data"
    }
   ],
   "source": [
    "# print graphic history of portfolio with matplotlib\n",
    "plt.plot(remaining_portfolio.history['date'], remaining_portfolio.history['value'], label='Value')\n",
    "plt.plot(remaining_portfolio.history['date'], remaining_portfolio.history['cash'], label='Cash')\n",
    "# plt.plot(remaining_portfolio.history['date'], remaining_portfolio.history['value'] - remaining_portfolio.history['cash'], label='Invested')\n",
    "plt.legend()\n",
    "plt.show()\n",
    "\n",
    "\n"
   ]
  }
 ],
 "metadata": {
  "kernelspec": {
   "display_name": ".env",
   "language": "python",
   "name": "python3"
  },
  "language_info": {
   "codemirror_mode": {
    "name": "ipython",
    "version": 3
   },
   "file_extension": ".py",
   "mimetype": "text/x-python",
   "name": "python",
   "nbconvert_exporter": "python",
   "pygments_lexer": "ipython3",
   "version": "3.10.7"
  }
 },
 "nbformat": 4,
 "nbformat_minor": 2
}
