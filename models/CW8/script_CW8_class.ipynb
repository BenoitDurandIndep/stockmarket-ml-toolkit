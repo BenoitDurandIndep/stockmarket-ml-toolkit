{
 "cells": [
  {
   "cell_type": "code",
   "execution_count": 1,
   "metadata": {},
   "outputs": [
    {
     "data": {
      "text/plain": [
       "<module 'balance' from 'C:\\\\Projets\\\\MarketDataEnrichment\\\\dataset_mngr\\\\balance.py'>"
      ]
     },
     "execution_count": 1,
     "metadata": {},
     "output_type": "execute_result"
    }
   ],
   "source": [
    "from importlib import reload\n",
    "from sklearn.model_selection import train_test_split, RandomizedSearchCV, cross_val_score,TimeSeriesSplit\n",
    "from imblearn.under_sampling import CondensedNearestNeighbour\n",
    "import xgboost as xgb\n",
    "import joblib\n",
    "import pickle\n",
    "from sklearn import metrics\n",
    "from sklearn.preprocessing import StandardScaler\n",
    "from sklearn.ensemble import RandomForestClassifier\n",
    "import statsmodels.api as sma\n",
    "import statsmodels.stats.outliers_influence  as smo\n",
    "from scipy.stats import uniform, randint,probplot,shapiro\n",
    "import model_mngr as modmgr\n",
    "import split_merge as sm\n",
    "import add_indicators as indic\n",
    "import balance\n",
    "import pandas as pd\n",
    "import numpy as np\n",
    "import random as rd\n",
    "from pathlib import Path\n",
    "import seaborn as sns\n",
    "import matplotlib.pyplot as plt\n",
    "from boruta import BorutaPy\n",
    "import maria_import_export as maria\n",
    "reload(maria)\n",
    "reload(indic)\n",
    "reload(sm)\n",
    "reload(modmgr)\n",
    "reload(balance)\n"
   ]
  },
  {
   "attachments": {},
   "cell_type": "markdown",
   "metadata": {},
   "source": [
    "Load data for CW8 ETF from Maria\n",
    "Add indicators and labels and save the dataset on disk"
   ]
  },
  {
   "cell_type": "code",
   "execution_count": 2,
   "metadata": {},
   "outputs": [],
   "source": [
    "PATH_DATA = \"../../../Data/DTS_FULL/\"\n",
    "PATH_MODEL = \"../../../Data/Models/\"\n",
    "PATH_RES = \"../../../Data/Res/\"\n",
    "symb = \"CW8\"\n",
    "dts_name = \"DCA_CLOSE_1D_V1\"\n",
    "rnd_key = int(maria.get_conf(\"RANDOM_KEY\"))\n",
    "df = pd.DataFrame()\n",
    "if \"con\" in locals():\n",
    "    maria.close_connection(con)\n",
    "con = maria.get_connection()\n",
    "df = maria.get_candles_to_df(con=con, symbol=symb, only_close=True)\n",
    "df = indic.add_indicators_to_df(con=con, df_in=df, dts_name=dts_name)\n",
    "df.sort_index(inplace=True)\n",
    "#df.round(5).to_csv(PATH_DATA+dts_name+\"_full.zip\", sep=\",\")\n"
   ]
  },
  {
   "attachments": {},
   "cell_type": "markdown",
   "metadata": {},
   "source": [
    "Clean the dataset droping useless features\n",
    "Split the dataset by labels, train, val, conf part"
   ]
  },
  {
   "cell_type": "code",
   "execution_count": 3,
   "metadata": {},
   "outputs": [
    {
     "name": "stdout",
     "output_type": "stream",
     "text": [
      "           LABEL\n",
      "0   lab_perf_21d\n",
      "1   lab_perf_62d\n",
      "2  lab_perf_125d\n",
      "3  lab_perf_250d\n"
     ]
    }
   ],
   "source": [
    "df = indic.drop_indicators_by_type(\n",
    "    con=con, df_in=df, dts_name=dts_name, symbol=symb, ind_type=0)\n",
    "list_label = indic.get_ind_list_by_type_for_dts(\n",
    "    con=con, dts_name=dts_name, symbol=symb, ind_type=2)\n",
    "print(list_label)\n"
   ]
  },
  {
   "attachments": {},
   "cell_type": "markdown",
   "metadata": {},
   "source": [
    "selection of the df studied and plot data to check\n",
    "!! change lab_studied and algo_studied before training !!"
   ]
  },
  {
   "cell_type": "code",
   "execution_count": 4,
   "metadata": {},
   "outputs": [
    {
     "name": "stdout",
     "output_type": "stream",
     "text": [
      "OPEN_DATETIME\n",
      "2010-03-25    2.0\n",
      "2019-04-30    4.0\n",
      "Name: lab_perf_21d, dtype: float64\n",
      "OPEN_DATETIME\n",
      "2019-05-02    4.0\n",
      "2021-04-30    3.0\n",
      "Name: lab_perf_21d, dtype: float64\n",
      "OPEN_DATETIME\n",
      "2021-05-03    3.0\n",
      "2023-04-06    2.0\n",
      "Name: lab_perf_21d, dtype: float64\n"
     ]
    }
   ],
   "source": [
    "# dict_split.keys()\n",
    "lab_studied = \"lab_perf_21d\"\n",
    "algo_studied = \"RANDOM_FOREST_CLASS\"\n",
    "lab_df_studied = \"df_\"+lab_studied\n",
    "#categ_lab={0:[0.06,100],1:[0.04,0.06],2:[0.015,0.03],3:[0,0.015],4:[-0.03,0],5:[-100,-0.03]}#categ for CW8 lab 21d\n",
    "#categ_lab={0:[0.05,100],1:[0.025,0.05],2:[0.01,0.025],3:[-0.01,0.01],4:[-0.04,-0.01],5:[-100,-0.04]}#categ for CW8 lab 21d\n",
    "categ_lab={0:[0.04,100],1:[0.02,0.04],2:[0.00,0.02],3:[-0.025,0.00],4:[-100.0,-0.025]}#categ for CW8 lab 21d\n",
    "df_class=balance.add_lab_by_class(df_in=df,str_label=lab_studied,categ=categ_lab,bool_replace_label=True)\n",
    "\n",
    "dict_split = sm.split_df_by_label_strat(\n",
    "    df_in=df_class, list_label=list_label['LABEL'].tolist(), split_timeframe=\"M\",random_split=False,split_strat=(70,15,15))\n",
    "\n",
    "#print(df_test.info())\n",
    "\n",
    "df_selected = dict_split[lab_df_studied+'_train']\n",
    "df_valid = dict_split[lab_df_studied+'_valid']\n",
    "df_confirm = dict_split[lab_df_studied+'_confirm']\n",
    "#call function replace lab_studied by lab_studied_class .sort_index(inplace=True)\n",
    "print(df_selected.loc[:, lab_studied].dropna().iloc[[0, -1]])\n",
    "print(df_valid.loc[:, lab_studied].dropna().iloc[[0, -1]])\n",
    "print(df_confirm.loc[:, lab_studied].dropna().iloc[[0, -1]])"
   ]
  },
  {
   "attachments": {},
   "cell_type": "markdown",
   "metadata": {},
   "source": [
    "get list of features, depends where we are in the process"
   ]
  },
  {
   "cell_type": "code",
   "execution_count": null,
   "metadata": {},
   "outputs": [],
   "source": [
    "df_selected.info()"
   ]
  },
  {
   "cell_type": "code",
   "execution_count": 5,
   "metadata": {},
   "outputs": [
    {
     "data": {
      "text/plain": [
       "['pos_sma200',\n",
       " 'pos_sma50_200',\n",
       " 'pos_sma20_50',\n",
       " 'rsi14',\n",
       " 'sma20_rsi14',\n",
       " 'ret_1d',\n",
       " 'ret_5d',\n",
       " 'pos_top20',\n",
       " 'pos_top50',\n",
       " 'pos_bot20',\n",
       " 'pos_bot50',\n",
       " 'aroon14_up',\n",
       " 'macd_dif',\n",
       " 'pos_top_200',\n",
       " 'pos_bot_200',\n",
       " 'pos_stdev20_sma5',\n",
       " 'stdev20_sma20',\n",
       " 'pos_rsi14_sma5',\n",
       " 'pos_rsi14_sma20']"
      ]
     },
     "execution_count": 5,
     "metadata": {},
     "output_type": "execute_result"
    }
   ],
   "source": [
    "#begining, no model no ds_fitlered, we use all finales features\n",
    "# list_feat = indic.get_ind_list_by_type_for_dts(\n",
    "#     con=con, dts_name=dts_name, symbol=symb, ind_type=1)\n",
    "# list_feat = list_feat['LABEL'].tolist()\n",
    "\n",
    "# features filtered, we use features from the dataframe\n",
    "#filter features for the studied label\n",
    "df_selected = indic.drop_indicators_not_selected(con=con, df_in=df_selected, dts_name=dts_name, symbol=symb,label=lab_studied,algo=algo_studied)\n",
    "df_valid = indic.drop_indicators_not_selected(con=con, df_in=df_valid, dts_name=dts_name, symbol=symb,label=lab_studied,algo=algo_studied)\n",
    "df_confirm = indic.drop_indicators_not_selected(con=con, df_in=df_confirm, dts_name=dts_name, symbol=symb,label=lab_studied,algo=algo_studied)\n",
    "df_selected.head()\n",
    "list_feat = df_selected.columns.values.tolist()\n",
    "list_feat.remove(lab_studied)\n",
    "list_feat"
   ]
  },
  {
   "cell_type": "code",
   "execution_count": 31,
   "metadata": {},
   "outputs": [],
   "source": [
    "df_selected.round(5).to_csv(PATH_DATA+dts_name+\"_train_colab_2305_3.zip\", sep=\",\")\n",
    "df_valid.round(5).to_csv(PATH_DATA+dts_name+\"_valid_colab_2305_3.zip\", sep=\",\")"
   ]
  },
  {
   "attachments": {},
   "cell_type": "markdown",
   "metadata": {},
   "source": [
    "Check data for each  label"
   ]
  },
  {
   "cell_type": "code",
   "execution_count": null,
   "metadata": {},
   "outputs": [],
   "source": [
    "(df.loc[:, list_label[\"LABEL\"]]).hist(bins=30,figsize=(18, 10))"
   ]
  },
  {
   "attachments": {},
   "cell_type": "markdown",
   "metadata": {},
   "source": [
    "Check if label is a normal distribution with a qq plot and shapiro"
   ]
  },
  {
   "cell_type": "code",
   "execution_count": 6,
   "metadata": {},
   "outputs": [
    {
     "name": "stdout",
     "output_type": "stream",
     "text": [
      "0.0    430\n",
      "1.0    482\n",
      "2.0    522\n",
      "3.0    559\n",
      "4.0    330\n",
      "Name: lab_perf_21d, dtype: int64\n"
     ]
    },
    {
     "data": {
      "image/png": "[encoded data removed]",
      "text/plain": [
       "<Figure size 800x300 with 1 Axes>"
      ]
     },
     "metadata": {},
     "output_type": "display_data"
    }
   ],
   "source": [
    "data = df_selected[lab_studied]\n",
    "data.hist(figsize=(8, 3),bins=50,)\n",
    "print(data.value_counts().sort_index())"
   ]
  },
  {
   "cell_type": "code",
   "execution_count": 84,
   "metadata": {},
   "outputs": [
    {
     "data": {
      "text/plain": [
       "<AxesSubplot: >"
      ]
     },
     "execution_count": 84,
     "metadata": {},
     "output_type": "execute_result"
    },
    {
     "data": {
      "image/png": "[encoded data removed]",
      "text/plain": [
       "<Figure size 800x300 with 1 Axes>"
      ]
     },
     "metadata": {},
     "output_type": "display_data"
    }
   ],
   "source": [
    "#TomekLinks#RandomUnderSampler\n",
    "df_usamp=balance.class_undersampler(df_in=df_selected,str_label=lab_studied,str_method=\"RandomUnderSampler\",dict_strat={0:34,1:82,2:300,3:300,4:300,5:151})\n",
    "df_usamp=balance.class_oversampler(df_in=df_usamp,str_label=lab_studied,str_method=\"SMOTE\",dict_strat={0:100,1:200,2:300,3:300,4:300,5:300})\n",
    "#df_usamp.info()\n",
    "data = df_usamp[lab_studied]\n",
    "data.hist(figsize=(8, 3),bins=50,)\n"
   ]
  },
  {
   "attachments": {},
   "cell_type": "markdown",
   "metadata": {},
   "source": [
    "split dataframe into X,y"
   ]
  },
  {
   "cell_type": "code",
   "execution_count": 7,
   "metadata": {},
   "outputs": [
    {
     "name": "stdout",
     "output_type": "stream",
     "text": [
      "nb rows train : 2323 nb rows valid : 513\n"
     ]
    }
   ],
   "source": [
    "#df_selected=df_usamp  # if df_select has been under sampled before\n",
    "\n",
    "df_x_train, col_y_train = sm.split_df_x_y(\n",
    "    df_in=df_selected, list_features=list_feat, str_label=lab_studied, drop_na=True)\n",
    "df_x_valid, col_y_valid = sm.split_df_x_y(\n",
    "    df_in=df_valid, list_features=list_feat, str_label=lab_studied, drop_na=True)\n",
    "print(f\"nb rows train : {df_x_train.shape[0]} nb rows valid : {df_x_valid.shape[0]}\")\n",
    "\n"
   ]
  },
  {
   "attachments": {},
   "cell_type": "markdown",
   "metadata": {},
   "source": [
    "Analysis of train set, heatmap correlation "
   ]
  },
  {
   "cell_type": "code",
   "execution_count": null,
   "metadata": {},
   "outputs": [],
   "source": [
    "corr_train = df_x_train.corr()\n",
    "fig, ax = plt.subplots(figsize=(6, 6))\n",
    "corr_train.replace(1,0,inplace=True)\n",
    "#corr_train=corr_train.applymap(lambda x : None if x< 0.9 and x>-0.9 else x)\n",
    "corr_train.dropna(axis=0,how='all',inplace=True)\n",
    "corr_train.dropna(axis=1,how='all',inplace=True)\n",
    "sns.heatmap(corr_train, annot=False, cmap='coolwarm', vmin=-1, vmax=1, ax=ax)\n"
   ]
  },
  {
   "attachments": {},
   "cell_type": "markdown",
   "metadata": {},
   "source": [
    "Variance Inflation Factor"
   ]
  },
  {
   "cell_type": "code",
   "execution_count": null,
   "metadata": {},
   "outputs": [],
   "source": [
    "df_x_train_VIF = sma.add_constant(df_x_train)\n",
    "vif = pd.DataFrame()\n",
    "vif[\"feature\"]=df_x_train_VIF.columns\n",
    "vif[\"VIF\"]= [smo.variance_inflation_factor(df_x_train_VIF.values, i) for i in range(df_x_train_VIF.shape[1])]\n",
    "print(vif)\n"
   ]
  },
  {
   "attachments": {},
   "cell_type": "markdown",
   "metadata": {},
   "source": [
    "Feature analysis with Boruta"
   ]
  },
  {
   "cell_type": "code",
   "execution_count": null,
   "metadata": {},
   "outputs": [],
   "source": [
    "rf_bo = RandomForestClassifier(n_estimators=100, n_jobs=-1)\n",
    "boruta_selector = BorutaPy(rf_bo, n_estimators='auto',\n",
    "                           verbose=1, random_state=int(rnd_key))\n",
    "boruta_selector.fit(df_x_train.values, col_y_train.values)\n",
    "selected_features = df_x_train.columns[boruta_selector.support_]\n",
    "print(selected_features)\n"
   ]
  },
  {
   "cell_type": "code",
   "execution_count": 43,
   "metadata": {},
   "outputs": [
    {
     "name": "stdout",
     "output_type": "stream",
     "text": [
      "nb rows train : 2323 nb rows valid : 513\n"
     ]
    }
   ],
   "source": [
    "print(f\"nb rows train : {df_x_train.shape[0]} nb rows valid : {df_x_valid.shape[0]}\")"
   ]
  },
  {
   "attachments": {},
   "cell_type": "markdown",
   "metadata": {},
   "source": [
    "Hyperparameter tuning for Random Forest with  search CV"
   ]
  },
  {
   "cell_type": "code",
   "execution_count": 51,
   "metadata": {},
   "outputs": [
    {
     "name": "stdout",
     "output_type": "stream",
     "text": [
      "Fitting 5 folds for each of 2520 candidates, totalling 12600 fits\n",
      "Accuracy train (make_scorer(f1_score, average=weighted)) :0.25340540605816814\n",
      "Model with rank: 1\n",
      "Mean validation score: 0.24343080137395026 (std: 0.015862144069321824)\n",
      "Parameters: {'class_weight': 'balanced', 'max_depth': 6, 'max_features': 'sqrt', 'min_samples_leaf': 0.2, 'min_samples_split': 0.1, 'min_weight_fraction_leaf': 0.25, 'n_estimators': 50}\n",
      "\n",
      "Model with rank: 2\n",
      "Mean validation score: 0.2419551270102051 (std: 0.02744746112225487)\n",
      "Parameters: {'class_weight': 'balanced', 'max_depth': 5, 'max_features': 'sqrt', 'min_samples_leaf': 0.25, 'min_samples_split': 0.1, 'min_weight_fraction_leaf': 0.2, 'n_estimators': 50}\n",
      "\n",
      "Model with rank: 3\n",
      "Mean validation score: 0.24041947680347237 (std: 0.025513997065846658)\n",
      "Parameters: {'class_weight': 'balanced', 'max_depth': 5, 'max_features': 'sqrt', 'min_samples_leaf': 0.2, 'min_samples_split': 0.2, 'min_weight_fraction_leaf': 0.3, 'n_estimators': 50}\n",
      "\n",
      "Model with rank: 4\n",
      "Mean validation score: 0.23946554651580793 (std: 0.03297560060161154)\n",
      "Parameters: {'class_weight': 'balanced', 'max_depth': 6, 'max_features': 'sqrt', 'min_samples_leaf': 0.25, 'min_samples_split': 0.075, 'min_weight_fraction_leaf': 0.03, 'n_estimators': 50}\n",
      "\n",
      "Model with rank: 5\n",
      "Mean validation score: 0.23792911497098124 (std: 0.023322210792956398)\n",
      "Parameters: {'class_weight': 'balanced', 'max_depth': 6, 'max_features': 'sqrt', 'min_samples_leaf': 0.2, 'min_samples_split': 0.15, 'min_weight_fraction_leaf': 0.1, 'n_estimators': 100}\n",
      "\n",
      "Model with rank: 6\n",
      "Mean validation score: 0.23738867446174883 (std: 0.027929679779866656)\n",
      "Parameters: {'class_weight': 'balanced', 'max_depth': 4, 'max_features': 'sqrt', 'min_samples_leaf': 0.25, 'min_samples_split': 0.25, 'min_weight_fraction_leaf': 0.25, 'n_estimators': 50}\n",
      "\n",
      "Model with rank: 7\n",
      "Mean validation score: 0.23668149234010114 (std: 0.018810860316275366)\n",
      "Parameters: {'class_weight': 'balanced', 'max_depth': 6, 'max_features': 'sqrt', 'min_samples_leaf': 0.1, 'min_samples_split': 0.2, 'min_weight_fraction_leaf': 0.3, 'n_estimators': 100}\n",
      "\n",
      "Model with rank: 8\n",
      "Mean validation score: 0.23651934476384215 (std: 0.02304243608188956)\n",
      "Parameters: {'class_weight': 'balanced', 'max_depth': 5, 'max_features': 'sqrt', 'min_samples_leaf': 0.2, 'min_samples_split': 0.15, 'min_weight_fraction_leaf': 0.01, 'n_estimators': 100}\n",
      "\n",
      "Model with rank: 9\n",
      "Mean validation score: 0.23650216040964311 (std: 0.03079097350743936)\n",
      "Parameters: {'class_weight': 'balanced', 'max_depth': 6, 'max_features': 'sqrt', 'min_samples_leaf': 0.25, 'min_samples_split': 0.3, 'min_weight_fraction_leaf': 0.15, 'n_estimators': 50}\n",
      "\n",
      "Model with rank: 10\n",
      "Mean validation score: 0.2362993658101596 (std: 0.015705060400649555)\n",
      "Parameters: {'class_weight': 'balanced', 'max_depth': 5, 'max_features': 'sqrt', 'min_samples_leaf': 0.2, 'min_samples_split': 0.3, 'min_weight_fraction_leaf': 0.25, 'n_estimators': 100}\n",
      "\n"
     ]
    }
   ],
   "source": [
    "\n",
    "col_y_train_int = col_y_train.to_numpy().astype(int)\n",
    "\n",
    "scoring = {\n",
    "    'accuracy': metrics.make_scorer(metrics.accuracy_score),\n",
    "    'precision_weighted': metrics.make_scorer(metrics.precision_score, average='weighted'),\n",
    "    'recall_weighted': metrics.make_scorer(metrics.recall_score, average='weighted'),\n",
    "    'f1_weighted': metrics.make_scorer(metrics.f1_score, average='weighted')\n",
    "}\n",
    "\n",
    "time_split = TimeSeriesSplit(n_splits=5)\n",
    "\n",
    "# np.linspace(0.1, 0.5, 5, endpoint=True) # [0,0.01,0.02,0.03,0.04,0.05,0.06,0.075,0.1,0.12,0.15,0.2,0.25,0.3,0.4,0.5]\n",
    "grid = {\n",
    "    # number of trees in the foreset\n",
    "    'n_estimators': np.linspace(50, 150,3, endpoint=True,dtype=int),\n",
    "    # max number of features considered for splitting a node\n",
    "    'max_features': ['sqrt'],\n",
    "    # max number of levels in each decision tree\n",
    "    'max_depth': np.linspace(4, 6, 3, endpoint=True,dtype=int),\n",
    "    # min number of data points placed in a node before the node is split\n",
    "    'min_samples_split': [0.075,0.1,0.125,0.15,0.2,0.25,0.3],\n",
    "    # min number of data points allowed in a leaf node\n",
    "    'min_samples_leaf': [0.1,0.15,0.2,0.25],# max 0.3\n",
    "    # min weighted fraction of the sum total of weights\n",
    "    'min_weight_fraction_leaf':[0.01,0.03,0.05,0.075,0.1,0.12,0.15,0.2,0.25,0.3],\n",
    "    #min impurity decrease A node will be split if this split induces a decrease of the impurity greater than or equal to this value.\n",
    "    #'min_impurity_decrease':[0,0.01],\n",
    "    'class_weight':['balanced']#[None,'balanced']\n",
    "    }\n",
    "\n",
    "rf = RandomForestClassifier()\n",
    "\n",
    "rf_fitted = modmgr.search_cv_fit_report(estimator=rf, params=grid,cv=time_split,\n",
    "                                        x_train=df_x_train, y_train=col_y_train, random_state=int(rnd_key),\n",
    "                                          n_iter=1000, n_top=10, method=\"grid\", scoring=metrics.make_scorer(metrics.f1_score, average='weighted'))\n",
    "\n",
    "# mean_test_precision_weighted = rf_fitted.cv_results_['mean_test_precision_weighted']\n",
    "# params=rf_fitted.cv_results_['params']\n",
    "\n",
    "# ranked=np.argsort(-mean_test_precision_weighted)\n",
    "\n",
    "# for rank,score_idx in enumerate(ranked):\n",
    "#     if rank<20:\n",
    "#         params_str = ', '.join(f\"{param}: {value}\" for param, value in params[score_idx].items())\n",
    "#         print(f\"Rank {rank+1}: mean_test_precision_weighted {mean_test_precision_weighted[score_idx]:.4f}, Parameters: {params_str}\")"
   ]
  },
  {
   "cell_type": "code",
   "execution_count": null,
   "metadata": {},
   "outputs": [],
   "source": [
    "modmgr.report_best_scores(rf_fitted.cv_results_, 5)"
   ]
  },
  {
   "attachments": {},
   "cell_type": "markdown",
   "metadata": {},
   "source": [
    "check parameters and test with validation dataset and show feature importance"
   ]
  },
  {
   "cell_type": "code",
   "execution_count": 62,
   "metadata": {},
   "outputs": [
    {
     "name": "stdout",
     "output_type": "stream",
     "text": [
      "Random Forest class training score : 0.32371932845458457 OOB : 0.30736117089969867\n",
      "Random Forest class valid score:0.24561403508771928 \n"
     ]
    },
    {
     "data": {
      "text/plain": [
       "pos_sma200          0.217147\n",
       "pos_bot_200         0.210528\n",
       "pos_sma50_200       0.119300\n",
       "pos_top_200         0.096279\n",
       "pos_sma20_50        0.060623\n",
       "pos_top50           0.060301\n",
       "sma20_rsi14         0.058748\n",
       "aroon14_up          0.044401\n",
       "pos_top20           0.034827\n",
       "pos_stdev20_sma5    0.029558\n",
       "stdev20_sma20       0.023743\n",
       "pos_bot20           0.022187\n",
       "rsi14               0.007631\n",
       "ret_5d              0.005085\n",
       "pos_bot50           0.004996\n",
       "macd_dif            0.004646\n",
       "ret_1d              0.000000\n",
       "pos_rsi14_sma5      0.000000\n",
       "pos_rsi14_sma20     0.000000\n",
       "dtype: float64"
      ]
     },
     "execution_count": 62,
     "metadata": {},
     "output_type": "execute_result"
    }
   ],
   "source": [
    "rand_frst_class = RandomForestClassifier(n_estimators=100,  criterion=\"gini\",\n",
    "                                         random_state=rnd_key, max_depth=5, min_samples_split=0.3,\n",
    "                                           min_samples_leaf=0.2, min_weight_fraction_leaf=0.25,min_impurity_decrease=0.0,\n",
    "                                         max_features=\"sqrt\", class_weight='balanced', oob_score=True)\n",
    "rand_frst_class.fit(df_x_train, col_y_train)\n",
    "\n",
    "print(\n",
    "    f\"Random Forest class training score : {rand_frst_class.score(df_x_train, col_y_train)} OOB : {rand_frst_class.oob_score_}\")\n",
    "\n",
    "y_pred_valid = rand_frst_class.predict(df_x_valid)\n",
    "print(\n",
    "    f\"Random Forest class valid score:{rand_frst_class.score(df_x_valid,col_y_valid)} \")\n",
    "\n",
    "feat_imp = rand_frst_class.feature_importances_\n",
    "std_feat_imp = np.std(\n",
    "    [tree.feature_importances_ for tree in rand_frst_class.estimators_], axis=0)\n",
    "pd.Series(feat_imp, index=df_x_train.columns).sort_values(ascending=False)\n"
   ]
  },
  {
   "attachments": {},
   "cell_type": "markdown",
   "metadata": {},
   "source": [
    "save model"
   ]
  },
  {
   "cell_type": "code",
   "execution_count": 63,
   "metadata": {},
   "outputs": [
    {
     "data": {
      "text/plain": [
       "['../../../Data/Models/CW8_lab_perf_21d_rf_class_v50.pkl']"
      ]
     },
     "execution_count": 63,
     "metadata": {},
     "output_type": "execute_result"
    }
   ],
   "source": [
    "ext_pkl = \".pkl\"\n",
    "rf_suffix = \"_rf_class_v50\" #v1=raw v2=with resample v3=with balanced v4=samp and balanced VX1+new hyper V50 balanced, new categ timesplit\n",
    "joblib.dump(rand_frst_class, PATH_MODEL+symb+\"_\"+lab_studied+rf_suffix+ext_pkl)"
   ]
  },
  {
   "cell_type": "code",
   "execution_count": null,
   "metadata": {},
   "outputs": [],
   "source": [
    "ext_pkl = \".pkl\"\n",
    "rf_check=joblib.load(PATH_MODEL+symb+\"_\"+lab_studied+\"_rf_class_v1\"+ext_pkl)\n",
    "print(rf_check.get_params())\n",
    "print(\n",
    "    f\"Random Forest class training score : {rand_frst_class.score(df_x_train, col_y_train)} OOB : {rand_frst_class.oob_score_}\")\n",
    "print(\n",
    "    f\"Random Forest class validation  score:{rf_check.score(df_x_valid,col_y_valid)}\")\n",
    "feat_imp = rf_check.feature_importances_\n",
    "pd.Series(feat_imp, index=df_x_train.columns).sort_values(ascending=False)"
   ]
  },
  {
   "attachments": {},
   "cell_type": "markdown",
   "metadata": {},
   "source": [
    "Same thing with XGBoost\n",
    "Hyperparameter tuning for XGBoost with search CV"
   ]
  },
  {
   "cell_type": "code",
   "execution_count": 167,
   "metadata": {},
   "outputs": [
    {
     "name": "stdout",
     "output_type": "stream",
     "text": [
      "Fitting 5 folds for each of 5 candidates, totalling 25 fits\n",
      "Accuracy train ({'accuracy': make_scorer(accuracy_score), 'precision_weighted': make_scorer(precision_score, average=weighted), 'recall_weighted': make_scorer(recall_score, average=weighted), 'f1_weighted': make_scorer(f1_score, average=weighted)}) :1.0\n",
      "Rank 1: mean_test_precision_weighted 0.7129, Parameters: subsample: 0.8, n_estimators: 150, min_child_weight: 1.5, max_depth: 7, max_delta_step: 1, learning_rate: 0.3, lambda: 2, gamma: 0.0, colsample_bytree: 0.8, colsample_bynode: 0.5, colsample_bylevel: 0.7, alpha: 1.5\n",
      "Rank 2: mean_test_precision_weighted 0.6854, Parameters: subsample: 0.7, n_estimators: 200, min_child_weight: 0.5, max_depth: 6, max_delta_step: 2, learning_rate: 0.02, lambda: 1.5, gamma: 0.0, colsample_bytree: 0.5, colsample_bynode: 0.8, colsample_bylevel: 1.0, alpha: 0.25\n",
      "Rank 3: mean_test_precision_weighted 0.6728, Parameters: subsample: 0.4, n_estimators: 250, min_child_weight: 2.0, max_depth: 7, max_delta_step: 1, learning_rate: 0.03, lambda: 2, gamma: 0.0, colsample_bytree: 1.0, colsample_bynode: 0.5, colsample_bylevel: 0.6, alpha: 0.25\n",
      "Rank 4: mean_test_precision_weighted 0.6047, Parameters: subsample: 0.3, n_estimators: 150, min_child_weight: 1.5, max_depth: 8, max_delta_step: 0, learning_rate: 0.03, lambda: 1.5, gamma: 0.1, colsample_bytree: 0.5, colsample_bynode: 1.0, colsample_bylevel: 0.5, alpha: 1.5\n",
      "Rank 5: mean_test_precision_weighted 0.5321, Parameters: subsample: 0.6, n_estimators: 50, min_child_weight: 1.0, max_depth: 3, max_delta_step: 2, learning_rate: 0.03, lambda: 1.5, gamma: 0.0, colsample_bytree: 1.0, colsample_bynode: 0.7, colsample_bylevel: 1.0, alpha: 0.75\n"
     ]
    }
   ],
   "source": [
    "col_y_train_int = col_y_train.to_numpy().astype(int)\n",
    "\n",
    "scoring = {\n",
    "    'accuracy': metrics.make_scorer(metrics.accuracy_score),\n",
    "    'precision_weighted': metrics.make_scorer(metrics.precision_score, average='weighted'),\n",
    "    'recall_weighted': metrics.make_scorer(metrics.recall_score, average='weighted'),\n",
    "    'f1_weighted': metrics.make_scorer(metrics.f1_score, average='weighted')\n",
    "}\n",
    "\n",
    "# Set class weights\n",
    "class_weights = {0: 1, 1: 10}  # Class 0: 1, Class 1: 10\n",
    "\n",
    "# Set \"scale_pos_weight\" based on class balance\n",
    "pos_weight = sum(class_weights.values()) / sum(class_weights.keys())\n",
    "\n",
    "grid = {\n",
    "    # default 1 subsample ratio of columns when constructing each tree\n",
    "    \"colsample_bytree\": [x for x in np.linspace(0.5, 1.0, num=6, endpoint=True)],\n",
    "    \"colsample_bylevel\": [x for x in np.linspace(0.5, 1.0, num=6, endpoint=True)],\n",
    "    \"colsample_bynode\": [x for x in np.linspace(0.5, 1.0, num=6, endpoint=True)],\n",
    "    # default 0 minimum loss reduction to make a further patition on a leaf\n",
    "    \"gamma\": [x for x in np.linspace(0, 0.1, num=3, endpoint=True)],\n",
    "    # [x for x in np.linspace(0.01, 0.3, num=8, endpoint=True)],  # default 0.1\n",
    "    \"learning_rate\": [0.01, 0.02, 0.03, 0.05, 0.1, 0.15, 0.2, 0.25, 0.3],\n",
    "    # default 6 max depth of the tree\n",
    "    \"max_depth\": [int(x) for x in np.linspace(2, 8, num=7, endpoint=True, dtype=int)],\n",
    "    # default 100\n",
    "    \"n_estimators\": [int(x) for x in np.linspace(start=50, stop=250, num=5, endpoint=True, dtype=int)],\n",
    "    # default 1 subsample ratio of the training instances\n",
    "    # [x for x in np.linspace(0.6, 1.0, num=3, endpoint=True)],\n",
    "    \"subsample\": [0.3, 0.4, 0.5, 0.6, 0.7, 0.8, 1.0],\n",
    "    # default 1 minimum sum of instance weight needed in a child\n",
    "    \"min_child_weight\": [x for x in np.linspace(0.5, 3, num=6, endpoint=True)],\n",
    "    # default 0 Maximum delta step we allow each leaf output to be.\n",
    "    \"max_delta_step\": [0, 1, 2, 3],\n",
    "    # default 1 L2 regularization term on weights. Increasing this value will make model more conservative.\n",
    "    #\"lambda\": [0.5, 1, 1.5, 2],\n",
    "    # default 0 L1 regularization term on weights. Increasing this value will make model more conservative.\n",
    "    #\"alpha\": [0, 0.25, 0.5, 0.75, 1, 1.5, 2]\n",
    "\n",
    "}\n",
    "\n",
    "xgb_class = xgb.XGBClassifier(objective='multi:softmax', num_class=6)\n",
    "#2h pour 1000 cas !!\n",
    "xgb_fitted = modmgr.search_cv_fit_report(estimator=xgb_class, params=grid,\n",
    "                                         x_train=df_x_train, y_train=col_y_train_int, random_state=int(rnd_key),\n",
    "                                           n_iter=5, n_top=10, method='random', scoring=scoring, refit='precision_weighted')\n",
    "\n",
    "mean_test_precision_weighted = xgb_fitted.cv_results_['mean_test_precision_weighted']\n",
    "params=xgb_fitted.cv_results_['params']\n",
    "\n",
    "ranked=np.argsort(-mean_test_precision_weighted)\n",
    "\n",
    "for rank,score_idx in enumerate(ranked):\n",
    "    if rank<20:\n",
    "        params_str = ', '.join(f\"{param}: {value}\" for param, value in params[score_idx].items())\n",
    "        print(f\"Rank {rank+1}: mean_test_precision_weighted {mean_test_precision_weighted[score_idx]:.4f}, Parameters: {params_str}\")\n"
   ]
  },
  {
   "cell_type": "code",
   "execution_count": 8,
   "metadata": {},
   "outputs": [
    {
     "name": "stdout",
     "output_type": "stream",
     "text": [
      "Accuracy XGBoost classifier Training score : 0.654326302195437\n",
      "Accuracy XGBoost classifier Validation score :0.12085769980506822\n"
     ]
    },
    {
     "data": {
      "text/plain": [
       "<AxesSubplot: title={'center': 'Feature importance'}, xlabel='F score', ylabel='Features'>"
      ]
     },
     "execution_count": 8,
     "metadata": {},
     "output_type": "execute_result"
    },
    {
     "data": {
      "image/png": "[encoded data removed]",
      "text/plain": [
       "<Figure size 640x480 with 1 Axes>"
      ]
     },
     "metadata": {},
     "output_type": "display_data"
    }
   ],
   "source": [
    "params={'subsample': 0.6, 'n_estimators': 50, 'min_child_weight': 0.5, 'max_depth': 3, 'learning_rate': 0.1, 'gamma': 0.15, 'colsample_bytree': 0.5};\n",
    "\n",
    "xgb_class = xgb.XGBClassifier(random_state=int(rnd_key),\n",
    "                           learning_rate=params['learning_rate'], subsample=params['subsample'], gamma=params['gamma'],\n",
    "                           colsample_bytree=params['colsample_bytree'],#colsample_bynode= 0.5, colsample_bylevel= 0.5,\n",
    "                            max_depth=params['max_depth'], n_estimators=params['n_estimators'], min_child_weight=params['min_child_weight'], verbosity=1)\n",
    "\n",
    "xgb_class.fit(df_x_train, col_y_train)\n",
    "\n",
    "print(f\"Accuracy XGBoost classifier Training score : {xgb_class.score(df_x_train, col_y_train)}\")\n",
    "\n",
    "#y_pred_valid = xgb_reg.predict(df_x_valid)\n",
    "\n",
    "print(\n",
    "    f\"Accuracy XGBoost classifier Validation score :{xgb_class.score(df_x_valid,col_y_valid)}\")\n",
    "\n",
    "# print(xgb_reg.feature_importances_)\n",
    "xgb.plot_importance(xgb_class)\n"
   ]
  },
  {
   "cell_type": "code",
   "execution_count": 9,
   "metadata": {},
   "outputs": [
    {
     "data": {
      "text/plain": [
       "['../../../Data/Models/CW8_lab_perf_21d_xgb_class_v51.pkl']"
      ]
     },
     "execution_count": 9,
     "metadata": {},
     "output_type": "execute_result"
    }
   ],
   "source": [
    "ext_pkl = \".pkl\"\n",
    "xgb_suffix = \"_xgb_class_v51\"\n",
    "joblib.dump(xgb_class, PATH_MODEL+symb+\"_\"+lab_studied+xgb_suffix+ext_pkl)\n"
   ]
  },
  {
   "attachments": {},
   "cell_type": "markdown",
   "metadata": {},
   "source": [
    "Same thing with Ridge regression \n",
    "Hyperparameter tuning for Logistic Regression with random search CV"
   ]
  },
  {
   "cell_type": "code",
   "execution_count": null,
   "metadata": {},
   "outputs": [],
   "source": [
    "grid = {\n",
    "    \"solver\": [\"svd\", \"cholesky\", \"lsqr\", \"sag\"],\n",
    "    \"alpha\": [x for x in np.logspace(1e-5, 100, 20)],\n",
    "    \"fit_intercept\": [True, False],\n",
    "    \"normalize\": [True, False]\n",
    "}\n",
    "lin_reg = Ridge()\n",
    "\n",
    "lin_fitted = modmgr.search_cv_fit_report(estimator=lin_reg, params=grid,\n",
    "                                            x_train=df_x_train, y_train=col_y_train, random_state=int(rnd_key), n_iter=100, n_top=5)\n"
   ]
  },
  {
   "cell_type": "code",
   "execution_count": null,
   "metadata": {},
   "outputs": [],
   "source": [
    "\n",
    "\n",
    "params = {\n",
    "    \"solver\": \"cholesky\",\n",
    "    \"normalize\": True,\n",
    "    \"fit_intercept\": True,\n",
    "    \"alpha\": 1\n",
    "}\n",
    "\n",
    "lin_reg = Ridge(random_state=int(rnd_key),\n",
    "                solver=params['solver'], normalize=params['normalize'], fit_intercept=params['fit_intercept'],\n",
    "                alpha=params['alpha'])\n",
    "\n",
    "lin_reg.fit(df_x_train, col_y_train)\n",
    "\n",
    "print(f\"Training score : {lin_reg.score(df_x_train, col_y_train)}\")\n",
    "\n",
    "print(\n",
    "    f\"Accuracy Ridge regressor Validation:{lin_reg.score(df_x_valid,col_y_valid)}\")\n",
    "\n",
    "print(lin_reg.coef_)\n",
    "\n",
    "\n",
    "plt.bar(df_x_train.columns, lin_reg.coef_)\n",
    "plt.xticks(range(len(df_x_train.columns)), df_x_train.columns, rotation=90)\n",
    "plt.ylabel('Coefficient')\n",
    "plt.title('Ridge features importance')\n",
    "plt.show()\n"
   ]
  },
  {
   "cell_type": "code",
   "execution_count": 43,
   "metadata": {},
   "outputs": [
    {
     "data": {
      "text/plain": [
       "['../../../Data/Models/CW8_lab_perf_62d_ridge_reg_v2.pkl']"
      ]
     },
     "execution_count": 43,
     "metadata": {},
     "output_type": "execute_result"
    }
   ],
   "source": [
    "ext_pkl = \".pkl\"\n",
    "ridge_suffix = \"_ridge_reg_v2\"\n",
    "joblib.dump(lin_reg, PATH_MODEL+symb+\"_\"+lab_studied+ridge_suffix+ext_pkl)"
   ]
  },
  {
   "attachments": {},
   "cell_type": "markdown",
   "metadata": {},
   "source": [
    "Generate scores values  for the dataset and save in csv"
   ]
  },
  {
   "cell_type": "code",
   "execution_count": 10,
   "metadata": {},
   "outputs": [],
   "source": [
    "list_rf=[\"_xgb_class_v51\"]#[\"_rf_class_v1\",\"_rf_class_v2\",\"_rf_class_v3\",\"_rf_class_v4\",\"_rf_class_v11\",\"_rf_class_v21\",\"_rf_class_v31\",\"_rf_class_v41\"]\n",
    "list_predict=[]\n",
    "algo_studied = \"RANDOM_FOREST_CLASS\"\n",
    "\n",
    "df_prep = indic.drop_indicators_not_selected(\n",
    "    con=con, df_in=df_class, dts_name=dts_name, symbol=symb, label=lab_studied, algo=algo_studied)\n",
    "df_predict = indic.drop_indicators_by_type(\n",
    "    con=con, df_in=df_prep, dts_name=dts_name, symbol=symb, ind_type=2)\n",
    "df_predict.dropna(inplace=True)\n",
    "X_cols_class = df_predict.columns\n",
    "\n",
    "for name in list_rf:\n",
    "    rf_check = joblib.load(PATH_MODEL+symb+\"_\"+lab_studied+name+ext_pkl)\n",
    "    col='predict'+name\n",
    "    list_predict.append(col)\n",
    "    df_predict[col] = rf_check.predict(df_predict[X_cols_class])\n",
    "\n",
    "df_prep = df_prep.join(\n",
    "    df_predict[list_predict], how=\"left\")\n",
    "df_prep.dropna(inplace=True)\n",
    "df_prep.round(5).to_csv(\n",
    "    PATH_RES+dts_name+\"_\"+lab_studied+\"_predict_class_test_TS.zip\", sep=\",\")\n"
   ]
  },
  {
   "cell_type": "code",
   "execution_count": null,
   "metadata": {},
   "outputs": [
    {
     "name": "stdout",
     "output_type": "stream",
     "text": [
      "<class 'pandas.core.frame.DataFrame'>\n"
     ]
    }
   ],
   "source": [
    "rf_check = joblib.load(PATH_MODEL+symb+\"_\"+lab_studied+\"_rf_class_v1\"+ext_pkl)\n",
    "# xgb_check = joblib.load(PATH_MODEL+symb+\"_\"+lab_studied+\"_xgb_reg_v2\"+ext_pkl)\n",
    "# ridge_check = joblib.load(\n",
    "#     PATH_MODEL+symb+\"_\"+lab_studied+\"_ridge_reg_v2\"+ext_pkl)\n",
    "\n",
    "# RF XGB and Ridge use the same features actually\n",
    "algo_studied = \"RANDOM_FOREST_CLASS\"\n",
    "df_prep = indic.drop_indicators_not_selected(\n",
    "    con=con, df_in=df, dts_name=dts_name, symbol=symb, label=lab_studied, algo=algo_studied)\n",
    "df_predict = indic.drop_indicators_by_type(\n",
    "    con=con, df_in=df_prep, dts_name=dts_name, symbol=symb, ind_type=2)\n",
    "df_predict.dropna(inplace=True)\n",
    "X_cols_reg = df_predict.columns\n",
    "\n",
    "df_predict['predict_rf'] = rf_check.predict(df_predict[X_cols_reg])\n",
    "df_predict['predict_xgb'] = xgb_check.predict(df_predict[X_cols_reg])\n",
    "df_predict['predict_ridge'] = ridge_check.predict(df_predict[X_cols_reg])\n",
    "print(type(df_predict))\n",
    "# if yeo johnson transform !!!!!\n",
    "pt = balance.load_transformer(\n",
    "    filename=PATH_MODEL+symb+\"_PT_\"+lab_studied+\".pkl\")\n",
    "df_predict = balance.yeo_johnson_transform_inverse_col(\n",
    "    df_in=df_predict, str_col='predict_rf', pt=pt)\n",
    "df_predict = balance.yeo_johnson_transform_inverse_col(\n",
    "    df_in=df_predict, str_col='predict_xgb', pt=pt)\n",
    "df_predict = balance.yeo_johnson_transform_inverse_col(\n",
    "    df_in=df_predict, str_col='predict_ridge', pt=pt)\n",
    "df_predict['predict_rf']=df_predict['predict_rf']/5.0\n",
    "df_predict['predict_xgb']=df_predict['predict_xgb']/5.0\n",
    "df_predict['predict_ridge']=df_predict['predict_ridge']/5.0\n",
    "# END if yeo johnson transform\n",
    "\n",
    "df_predict['predict_avg'] = (\n",
    "    df_predict['predict_rf']+df_predict['predict_xgb']+df_predict['predict_ridge'])/3.0\n",
    "\n",
    "df_prep = df_prep.join(\n",
    "    df_predict[['predict_rf', 'predict_xgb', 'predict_ridge', 'predict_avg']], how=\"left\")\n",
    "df_prep.dropna(inplace=True)\n",
    "df_prep.round(5).to_csv(\n",
    "    PATH_DATA+dts_name+\"_\"+lab_studied+\"_predict_V2.zip\", sep=\",\")\n"
   ]
  },
  {
   "cell_type": "code",
   "execution_count": null,
   "metadata": {},
   "outputs": [],
   "source": [
    "df_prep.describe()"
   ]
  },
  {
   "cell_type": "code",
   "execution_count": null,
   "metadata": {},
   "outputs": [],
   "source": [
    "df_can = maria.get_candles_to_df(con=con, symbol=symb, only_close=False)\n",
    "df_can.sort_index(inplace=True)\n",
    "df_can.describe()"
   ]
  },
  {
   "cell_type": "code",
   "execution_count": null,
   "metadata": {},
   "outputs": [],
   "source": [
    "df_bt=sm.join_dataframes_backtest(df_candle=df_can,df_score=df_prep,str_col_score='predict_ridge')\n",
    "df_bt.describe(include='all')\n",
    "df_bt.round(5).to_csv(\n",
    "     \"../../../Data/backtest/\"+dts_name+\"_\"+lab_studied+\"_predict_BT.zip\", sep=\",\")"
   ]
  }
 ],
 "metadata": {
  "kernelspec": {
   "display_name": "Python 3.10.5 ('.env': venv)",
   "language": "python",
   "name": "python3"
  },
  "language_info": {
   "codemirror_mode": {
    "name": "ipython",
    "version": 3
   },
   "file_extension": ".py",
   "mimetype": "text/x-python",
   "name": "python",
   "nbconvert_exporter": "python",
   "pygments_lexer": "ipython3",
   "version": "3.10.5"
  },
  "orig_nbformat": 4,
  "vscode": {
   "interpreter": {
    "hash": "588c4d5d0abde81a8ebfffdc736a46bcad9c5b92be7be13fb4e3cb13087ce002"
   }
  }
 },
 "nbformat": 4,
 "nbformat_minor": 2
}
