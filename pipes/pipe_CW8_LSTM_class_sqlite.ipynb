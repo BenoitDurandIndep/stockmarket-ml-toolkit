{
 "cells": [
  {
   "cell_type": "code",
   "execution_count": 1,
   "metadata": {},
   "outputs": [],
   "source": [
    "import pandas as pd\n",
    "import numpy as np\n",
    "import yfinance as yf\n",
    "from datetime import datetime as dt, timedelta\n",
    "from keras.models import load_model\n",
    "\n",
    "import sqlite_io as sio\n",
    "import model_mngr as modmgr\n",
    "import add_indicators as indic\n",
    "import split_merge as sm\n",
    "import joblib\n"
   ]
  },
  {
   "cell_type": "markdown",
   "metadata": {},
   "source": [
    "SET VARIABLES"
   ]
  },
  {
   "cell_type": "code",
   "execution_count": 3,
   "metadata": {},
   "outputs": [],
   "source": [
    "PATH_MODEL = \"../../Data/Models/\"\n",
    "PATH_DB_CW8=\"C:\\Projets\\Data\\sqlite\\candle_CW8.db\"\n",
    "PATH_DB_FWK=\"C:\\Projets\\Data\\sqlite\\dataset_market.db\"\n",
    "\n",
    "symb = \"CW8\"\n",
    "model_type= \"LSTM_CLASS\"\n",
    "dts_name = \"DCA_CLOSE_1D_21D_V1\"\n",
    "lab_studied = \"lab_perf_21d\"\n",
    "update = \"202310\"\n",
    "timeframe=1440 #1D=1440\n",
    "delta_date=3 #nb days added to the last_date\n",
    "seq_len=20 \n",
    "file_name=symb+\"_\"+model_type+\"_\"+dts_name+\"_\"+update+\".h5\"\n",
    "scaler_name=symb+\"_\"+model_type+\"_\"+dts_name+\"_\"+update+\"_scaler.save\""
   ]
  },
  {
   "cell_type": "markdown",
   "metadata": {},
   "source": [
    "Connexion and symbol info"
   ]
  },
  {
   "cell_type": "code",
   "execution_count": 4,
   "metadata": {},
   "outputs": [
    {
     "name": "stdout",
     "output_type": "stream",
     "text": [
      "Exception while closing Not an executable object: 'SELECT 1'\n",
      "Exception while closing Not an executable object: 'SELECT 1'\n",
      " symb_yf='CW8.PA' dt_last_candle=Timestamp('2023-12-08 00:00:00') dt_delta=Timestamp('2023-12-05 00:00:00')\n"
     ]
    }
   ],
   "source": [
    "if \"con_cw8\" in locals():\n",
    "        sio.close_connection(con_cw8)\n",
    "con_cw8 = sio.get_connection(str_db_path=PATH_DB_CW8)\n",
    "\n",
    "if \"con_fwk\" in locals():\n",
    "        sio.close_connection(con_fwk)\n",
    "con_fwk = sio.get_connection(str_db_path=PATH_DB_FWK)\n",
    "\n",
    "symb_info=sio.get_symbol(symbol=symb)\n",
    "symb_yf=symb_info.CODE_YAHOO.iloc[0]#select first line\n",
    "\n",
    "dt_last_candle=sio.get_last_candle_date(con=con_cw8, symbol=symb,timeframe=timeframe) \n",
    "# print(f\"{type(dt_last_candle)=} -- {dt_last_candle=}\")\n",
    "dt_delta=dt_last_candle-timedelta(days=delta_date)\n",
    "print(f\" {symb_yf=} {dt_last_candle=} {dt_delta=}\")"
   ]
  },
  {
   "cell_type": "markdown",
   "metadata": {},
   "source": [
    "Get Yahoo Data and check last months"
   ]
  },
  {
   "cell_type": "code",
   "execution_count": 5,
   "metadata": {},
   "outputs": [
    {
     "name": "stdout",
     "output_type": "stream",
     "text": [
      "Exception while closing Not an executable object: 'SELECT 1'\n",
      "Exception while closing Not an executable object: 'SELECT 1'\n",
      "         NB          MIN(OPEN_DATETIME)          MAX(OPEN_DATETIME)  \\\n",
      "MONTH                                                                 \n",
      "2023-12   6  2023-12-01 00:00:00.000000  2023-12-08 00:00:00.000000   \n",
      "2023-11  26         2023-11-01 00:00:00  2023-11-30 00:00:00.000000   \n",
      "2023-10  22         2023-10-02 00:00:00         2023-10-31 00:00:00   \n",
      "2023-09  21         2023-09-01 00:00:00         2023-09-29 00:00:00   \n",
      "2023-08  23         2023-08-01 00:00:00         2023-08-31 00:00:00   \n",
      "\n",
      "         MIN(CLOSE)  MAX(CLOSE)  \n",
      "MONTH                            \n",
      "2023-12  437.289795  443.266113  \n",
      "2023-11  414.119385  433.976501  \n",
      "2023-10  405.379913  429.454407  \n",
      "2023-09  421.415100  436.457703  \n",
      "2023-08  415.574707  433.315796  \n"
     ]
    }
   ],
   "source": [
    "ticker_yf = yf.Ticker(symb_yf)\n",
    "hist_yf = ticker_yf.history(start=dt_delta,period=\"1d\")\n",
    "\n",
    "hist_yf['Adj Close']=hist_yf['Close']\n",
    "res=sio.load_yahoo_df_into_sql(con=con_cw8, df_yahoo=hist_yf, symbol=symb, timeframe=timeframe, del_duplicate=True)\n",
    "\n",
    "print(sio.check_candles_last_months(con=con_cw8, symbol=symb, timeframe=timeframe))"
   ]
  },
  {
   "cell_type": "markdown",
   "metadata": {},
   "source": [
    "Get last year of data and add indicators"
   ]
  },
  {
   "cell_type": "code",
   "execution_count": 6,
   "metadata": {},
   "outputs": [
    {
     "name": "stdout",
     "output_type": "stream",
     "text": [
      "Exception while closing Not an executable object: 'SELECT 1'\n",
      "df.shape=(265, 7) df_indic.shape=(265, 53) df_clean.shape=(66, 23)\n"
     ]
    }
   ],
   "source": [
    "df = sio.get_candles_to_df(con=con_cw8, symbol=symb,timeframe=timeframe, only_close=False,date_start=dt_delta-timedelta(days=365))\n",
    "# print(df.head(5))\n",
    "df_indic = indic.add_indicators_to_df(con=con_fwk, df_in=df, dts_name=dts_name)\n",
    "df_indic.sort_index(inplace=True)\n",
    "\n",
    "df_clean = indic.drop_indicators_not_selected(con=con_fwk, df_in=df_indic, dts_name=dts_name, symbol=symb,label=lab_studied,algo=model_type,organize=True)\n",
    "\n",
    "df_clean = indic.drop_indicators_by_type(\n",
    "    con=con_fwk, df_in=df_clean, dts_name=dts_name, symbol=symb, ind_type=2) # drop of labels\n",
    "\n",
    "df_clean.dropna(axis=0,how='any',inplace=True)\n",
    "\n",
    "print(f\"{df.shape=} {df_indic.shape=} {df_clean.shape=}\")"
   ]
  },
  {
   "cell_type": "markdown",
   "metadata": {},
   "source": [
    "Normalisation and preparation"
   ]
  },
  {
   "cell_type": "code",
   "execution_count": 7,
   "metadata": {},
   "outputs": [
    {
     "name": "stdout",
     "output_type": "stream",
     "text": [
      "       pos_top20  pos_bb20_lo  pos_rsi14_sma20     ret_5d  pos_sma20_50  \\\n",
      "count  66.000000    66.000000        66.000000  66.000000     66.000000   \n",
      "mean    0.887088    -0.342348        -0.015935   0.193307      0.413436   \n",
      "std     0.106977     0.173144         0.285903   0.113838      0.094432   \n",
      "min     0.635901    -0.610885        -0.519386  -0.071388      0.287227   \n",
      "25%     0.801480    -0.509317        -0.298023   0.117500      0.326632   \n",
      "50%     0.919399    -0.346241         0.056249   0.208714      0.409838   \n",
      "75%     0.978735    -0.209787         0.234467   0.272719      0.480579   \n",
      "max     1.000000    -0.011783         0.451969   0.449114      0.587711   \n",
      "\n",
      "       pos_top_200  stdev20_sma20  pos_sma200  pos_bot20  pos_bot_200  ...  \\\n",
      "count    66.000000      66.000000   66.000000  66.000000    66.000000  ...   \n",
      "mean      0.851578      -0.596248    0.253995  -0.774294    -0.500430  ...   \n",
      "std       0.108619       0.080661    0.084871   0.174036     0.096660  ...   \n",
      "min       0.576370      -0.679427    0.033738  -1.000000    -0.745781  ...   \n",
      "25%       0.797284      -0.664460    0.208817  -0.950238    -0.543309  ...   \n",
      "50%       0.864733      -0.634218    0.270279  -0.778677    -0.483116  ...   \n",
      "75%       0.934670      -0.535567    0.297563  -0.644452    -0.453907  ...   \n",
      "max       1.000000      -0.430943    0.432693  -0.418091    -0.327593  ...   \n",
      "\n",
      "       sma20_rsi14     ret_1d  pos_top50  pos_rsi14_sma5  aroon14_up  \\\n",
      "count    66.000000  66.000000  66.000000       66.000000   66.000000   \n",
      "mean      0.001696   0.008134   0.857188       -0.019407    0.130536   \n",
      "std       0.250645   0.079887   0.113877        0.276445    0.805756   \n",
      "min      -0.335866  -0.215268   0.576370       -0.655690   -1.153846   \n",
      "25%      -0.225427  -0.036796   0.797284       -0.162254   -0.538462   \n",
      "50%      -0.063164   0.002737   0.864733       -0.033471    0.307692   \n",
      "75%       0.241701   0.063459   0.963063        0.104840    0.846154   \n",
      "max       0.478483   0.183537   1.000000        0.770256    1.000000   \n",
      "\n",
      "       stdev20_sma5  stdev20_1d      rsi14  pos_sma50_200  pos_stdev20_sma5  \n",
      "count     66.000000   66.000000  66.000000      66.000000         66.000000  \n",
      "mean      -0.670208   -0.199112   0.098873       0.120239         -0.279009  \n",
      "std        0.105364    0.140597   0.345247       0.089886          0.200365  \n",
      "min       -0.834424   -0.496354  -0.562449       0.013255         -0.738734  \n",
      "25%       -0.762864   -0.310031  -0.181189       0.034444         -0.451762  \n",
      "50%       -0.682515   -0.190485   0.175440       0.102000         -0.259798  \n",
      "75%       -0.562359   -0.092817   0.357142       0.193719         -0.126770  \n",
      "max       -0.501538    0.096459   0.744010       0.265692          0.038820  \n",
      "\n",
      "[8 rows x 23 columns]\n",
      "df_norm=                            pos_top20  pos_bb20_lo  pos_rsi14_sma20    ret_5d  \\\n",
      "OPEN_DATETIME                                                                   \n",
      "2023-09-14 00:00:00          1.000000    -0.158063         0.244549  0.276303   \n",
      "2023-09-15 00:00:00          0.973424    -0.230887         0.089252  0.234453   \n",
      "2023-09-18 00:00:00          0.942879    -0.317106        -0.058055  0.207673   \n",
      "2023-09-19 00:00:00          0.914411    -0.385769        -0.168547  0.175178   \n",
      "2023-09-20 00:00:00          0.931923    -0.383668        -0.124102  0.194237   \n",
      "...                               ...          ...              ...       ...   \n",
      "2023-12-04 00:00:00.000000   0.988441    -0.352025         0.066343  0.269506   \n",
      "2023-12-05 00:00:00.000000   1.000000    -0.314427         0.116006  0.302105   \n",
      "2023-12-06 00:00:00.000000   1.000000    -0.294927         0.126499  0.275289   \n",
      "2023-12-07 00:00:00.000000   1.000000    -0.285937         0.124542  0.294868   \n",
      "2023-12-08 00:00:00.000000   1.000000    -0.235963         0.171496  0.257637   \n",
      "\n",
      "                            pos_sma20_50  pos_top_200  stdev20_sma20  \\\n",
      "OPEN_DATETIME                                                          \n",
      "2023-09-14 00:00:00             0.445546     1.000000      -0.646453   \n",
      "2023-09-15 00:00:00             0.459119     0.975656      -0.643706   \n",
      "2023-09-18 00:00:00             0.470275     0.947676      -0.645825   \n",
      "2023-09-19 00:00:00             0.476571     0.921600      -0.650126   \n",
      "2023-09-20 00:00:00             0.481520     0.937641      -0.655553   \n",
      "...                                  ...          ...            ...   \n",
      "2023-12-04 00:00:00.000000      0.571006     0.989412      -0.587040   \n",
      "2023-12-05 00:00:00.000000      0.578959     1.000000      -0.602767   \n",
      "2023-12-06 00:00:00.000000      0.581535     1.000000      -0.617332   \n",
      "2023-12-07 00:00:00.000000      0.582582     1.000000      -0.631789   \n",
      "2023-12-08 00:00:00.000000      0.587711     1.000000      -0.645951   \n",
      "\n",
      "                            pos_sma200  pos_bot20  pos_bot_200  ...  \\\n",
      "OPEN_DATETIME                                                   ...   \n",
      "2023-09-14 00:00:00           0.432693  -0.578833    -0.327593  ...   \n",
      "2023-09-15 00:00:00           0.411160  -0.621386    -0.347192  ...   \n",
      "2023-09-18 00:00:00           0.386560  -0.744705    -0.369719  ...   \n",
      "2023-09-19 00:00:00           0.363464  -0.800707    -0.390714  ...   \n",
      "2023-09-20 00:00:00           0.373847  -0.777263    -0.377799  ...   \n",
      "...                                ...        ...          ...  ...   \n",
      "2023-12-04 00:00:00.000000    0.326232  -0.775080    -0.401650  ...   \n",
      "2023-12-05 00:00:00.000000    0.346952  -0.771152    -0.377887  ...   \n",
      "2023-12-06 00:00:00.000000    0.353202  -0.754857    -0.368917  ...   \n",
      "2023-12-07 00:00:00.000000    0.354500  -0.748357    -0.365339  ...   \n",
      "2023-12-08 00:00:00.000000    0.379811  -0.728672    -0.337199  ...   \n",
      "\n",
      "                            sma20_rsi14    ret_1d  pos_top50  pos_rsi14_sma5  \\\n",
      "OPEN_DATETIME                                                                  \n",
      "2023-09-14 00:00:00            0.142818  0.154889   1.000000        0.212415   \n",
      "2023-09-15 00:00:00            0.192548 -0.046905   0.975656        0.011598   \n",
      "2023-09-18 00:00:00            0.232065 -0.054554   0.947676       -0.164313   \n",
      "2023-09-19 00:00:00            0.247867 -0.050910   0.921600       -0.283535   \n",
      "2023-09-20 00:00:00            0.258254  0.035885   0.937641       -0.181591   \n",
      "...                                 ...       ...        ...             ...   \n",
      "2023-12-04 00:00:00.000000     0.393456 -0.018854   0.989412        0.046648   \n",
      "2023-12-05 00:00:00.000000     0.415453  0.063871   1.000000        0.074164   \n",
      "2023-12-06 00:00:00.000000     0.433198  0.025697   1.000000        0.064672   \n",
      "2023-12-07 00:00:00.000000     0.449442  0.011879   1.000000        0.012353   \n",
      "2023-12-08 00:00:00.000000     0.478483  0.074577   1.000000        0.076901   \n",
      "\n",
      "                            aroon14_up  stdev20_sma5  stdev20_1d     rsi14  \\\n",
      "OPEN_DATETIME                                                                \n",
      "2023-09-14 00:00:00           1.000000     -0.645424   -0.163620  0.514886   \n",
      "2023-09-15 00:00:00           1.000000     -0.647201   -0.321982  0.381501   \n",
      "2023-09-18 00:00:00           0.846154     -0.660012   -0.414657  0.240460   \n",
      "2023-09-19 00:00:00           0.692308     -0.680105   -0.367012  0.120051   \n",
      "2023-09-20 00:00:00           0.538462     -0.704249   -0.313367  0.181400   \n",
      "...                                ...           ...         ...       ...   \n",
      "2023-12-04 00:00:00.000000    1.000000     -0.830370   -0.315604  0.529254   \n",
      "2023-12-05 00:00:00.000000    1.000000     -0.834424   -0.080226  0.613053   \n",
      "2023-12-06 00:00:00.000000    1.000000     -0.832644    0.018781  0.642770   \n",
      "2023-12-07 00:00:00.000000    0.846154     -0.821401   -0.022040  0.654874   \n",
      "2023-12-08 00:00:00.000000    1.000000     -0.807553   -0.028965  0.744010   \n",
      "\n",
      "                            pos_sma50_200  pos_stdev20_sma5  \n",
      "OPEN_DATETIME                                                \n",
      "2023-09-14 00:00:00              0.259092         -0.229001  \n",
      "2023-09-15 00:00:00              0.262002         -0.334477  \n",
      "2023-09-18 00:00:00              0.264364         -0.472490  \n",
      "2023-09-19 00:00:00              0.265197         -0.534440  \n",
      "2023-09-20 00:00:00              0.265692         -0.534677  \n",
      "...                                   ...               ...  \n",
      "2023-12-04 00:00:00.000000       0.018328         -0.380397  \n",
      "2023-12-05 00:00:00.000000       0.019872         -0.258754  \n",
      "2023-12-06 00:00:00.000000       0.024128         -0.088181  \n",
      "2023-12-07 00:00:00.000000       0.029525         -0.018697  \n",
      "2023-12-08 00:00:00.000000       0.035921          0.031358  \n",
      "\n",
      "[66 rows x 23 columns] x_eval_lstm.shape=(47, 20, 23) df_predict.shape=(47, 23)\n"
     ]
    }
   ],
   "source": [
    "scaler = joblib.load(filename=PATH_MODEL + scaler_name)\n",
    "df_norm= pd.DataFrame(scaler.transform(df_clean), columns=df_clean.columns, index=df_clean.index)\n",
    "\n",
    "print(df_norm.describe())\n",
    "\n",
    "x_eval_lstm,df_predict = sm.prepare_sequences_with_df(df_in=df_norm,sequence_length=seq_len)\n",
    "print(f\"{df_norm=} {x_eval_lstm.shape=} {df_predict.shape=}\")"
   ]
  },
  {
   "cell_type": "markdown",
   "metadata": {},
   "source": [
    "Load model, score and print last N days"
   ]
  },
  {
   "cell_type": "code",
   "execution_count": 8,
   "metadata": {},
   "outputs": [
    {
     "name": "stdout",
     "output_type": "stream",
     "text": [
      "2/2 [==============================] - 1s 5ms/step\n",
      "2023-11-17 00:00:00           4.0\n",
      "2023-11-20 00:00:00           3.0\n",
      "2023-11-21 00:00:00           3.0\n",
      "2023-11-22 00:00:00           3.0\n",
      "2023-11-23 00:00:00           3.0\n",
      "2023-11-24 00:00:00           3.0\n",
      "2023-11-27 00:00:00           1.0\n",
      "2023-11-27 00:00:00.000000    1.0\n",
      "2023-11-28 00:00:00           2.0\n",
      "2023-11-28 00:00:00.000000    2.0\n",
      "2023-11-29 00:00:00           2.0\n",
      "2023-11-29 00:00:00.000000    3.0\n",
      "2023-11-30 00:00:00           0.0\n",
      "2023-11-30 00:00:00.000000    3.0\n",
      "2023-12-01 00:00:00.000000    3.0\n",
      "2023-12-04 00:00:00.000000    3.0\n",
      "2023-12-05 00:00:00.000000    3.0\n",
      "2023-12-06 00:00:00.000000    3.0\n",
      "2023-12-07 00:00:00.000000    3.0\n",
      "2023-12-08 00:00:00.000000    3.0\n",
      "Name: predict_score, dtype: float64\n"
     ]
    }
   ],
   "source": [
    "saved_model = load_model(PATH_MODEL+file_name)\n",
    "arr_res = saved_model.predict(x_eval_lstm)\n",
    "\n",
    "df_predict[\"predict_score\"] = np.concatenate([np.array([np.nan] * (df_predict.shape[0] - len(arr_res))), np.argmax(arr_res, axis=1)]) \n",
    "\n",
    "print(df_predict[\"predict_score\"][-20:])"
   ]
  }
 ],
 "metadata": {
  "kernelspec": {
   "display_name": ".env",
   "language": "python",
   "name": "python3"
  },
  "language_info": {
   "codemirror_mode": {
    "name": "ipython",
    "version": 3
   },
   "file_extension": ".py",
   "mimetype": "text/x-python",
   "name": "python",
   "nbconvert_exporter": "python",
   "pygments_lexer": "ipython3",
   "version": "3.10.5"
  }
 },
 "nbformat": 4,
 "nbformat_minor": 2
}
